{
 "cells": [
  {
   "cell_type": "code",
   "execution_count": 1,
   "metadata": {},
   "outputs": [],
   "source": [
    "import requests\n",
    "import json\n",
    "from api import *"
   ]
  },
  {
   "cell_type": "code",
   "execution_count": 2,
   "metadata": {},
   "outputs": [],
   "source": [
    "# Replace 'YOUR_ALPHA_VANTAGE_API_KEY' with your actual API key\n",
    "api_key = 'KO4Q75QIO0DULFR5'\n",
    "\n",
    "# Specify the stock symbol and API endpoint for time series data\n",
    "symbol = ['AAPL', 'MSFT', 'AMZN', 'TSLA'] \n",
    "\n",
    "# folder to save data\n",
    "folder_path = 'data/'"
   ]
  },
  {
   "cell_type": "code",
   "execution_count": 3,
   "metadata": {},
   "outputs": [],
   "source": [
    "def daily_process():\n",
    "    try:\n",
    "        for stock in symbol:\n",
    "            data = load_data(api_key, stock)\n",
    "            file_path = f'{folder_path}{stock.lower()}.json'\n",
    "\n",
    "            with open(file_path, 'w') as json_file:\n",
    "                json.dump(data, json_file)\n",
    "\n",
    "            print(f\"JSON data saved to {file_path}\")\n",
    "\n",
    "    except Exception as error:\n",
    "        print(f'An unexpected error occurred: {error}')"
   ]
  },
  {
   "cell_type": "code",
   "execution_count": 4,
   "metadata": {},
   "outputs": [],
   "source": [
    "def daily_process():\n",
    "    print(\"hello, word!\")"
   ]
  },
  {
   "cell_type": "code",
   "execution_count": 5,
   "metadata": {},
   "outputs": [
    {
     "name": "stdout",
     "output_type": "stream",
     "text": [
      "hello, word!\n"
     ]
    }
   ],
   "source": [
    "daily_process()"
   ]
  }
 ],
 "metadata": {
  "kernelspec": {
   "display_name": "ml-ai",
   "language": "python",
   "name": "python3"
  },
  "language_info": {
   "codemirror_mode": {
    "name": "ipython",
    "version": 3
   },
   "file_extension": ".py",
   "mimetype": "text/x-python",
   "name": "python",
   "nbconvert_exporter": "python",
   "pygments_lexer": "ipython3",
   "version": "3.12.0"
  }
 },
 "nbformat": 4,
 "nbformat_minor": 2
}
