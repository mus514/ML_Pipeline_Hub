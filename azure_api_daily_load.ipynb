{
 "cells": [
  {
   "cell_type": "code",
   "execution_count": 90,
   "metadata": {},
   "outputs": [],
   "source": [
    "import requests\n",
    "import json\n",
    "from datetime import datetime"
   ]
  },
  {
   "cell_type": "code",
   "execution_count": 91,
   "metadata": {},
   "outputs": [],
   "source": [
    "# Replace 'YOUR_ALPHA_VANTAGE_API_KEY' with your actual API key\n",
    "api_key = 'KO4Q75QIO0DULFR5'\n",
    "\n",
    "# Specify the stock symbol and API endpoint for time series data\n",
    "symbol = ['AAPL', 'MSFT', 'AMZN', 'TSLA'] \n",
    "\n",
    "# folder to save data\n",
    "folder_path = 'data/'\n",
    "\n",
    "# today date\n",
    "today = datetime.now().date()"
   ]
  },
  {
   "cell_type": "code",
   "execution_count": null,
   "metadata": {},
   "outputs": [],
   "source": [
    "# upload daily stock file\n",
    "def load_data(api_key, symbol):\n",
    "    endpoint = 'https://www.alphavantage.co/query'\n",
    "    function = 'TIME_SERIES_DAILY'\n",
    "    datatype = 'json'\n",
    "\n",
    "    # Build the API request URL\n",
    "    url = f'{endpoint}?function={function}&symbol={symbol}&apikey={api_key}&datatype={datatype}&outputsize=full'\n",
    "    # Make the API request\n",
    "    response = requests.get(url)\n",
    "\n",
    "    # Check if the request was successful\n",
    "    if response.status_code == 200:\n",
    "        # Parse and filter the data for the specified date range\n",
    "        data = response.json()\n",
    "        return data\n",
    "    \n",
    "    #print(filtered_data)\n",
    "    else:\n",
    "        print(f\"Error: {response.status_code}, {response.text}\") "
   ]
  },
  {
   "cell_type": "code",
   "execution_count": 92,
   "metadata": {},
   "outputs": [],
   "source": [
    "def daily_process():\n",
    "    try:\n",
    "        load_files_list = []\n",
    "        for stock in symbol:\n",
    "            data = load_data(api_key, stock)\n",
    "            file_path = f'{folder_path}{stock.lower()}.json'\n",
    "\n",
    "            if list(data.keys())[0] != 'Information':\n",
    "                with open(file_path, 'w') as json_file:\n",
    "                    json.dump(data, json_file)\n",
    "                \n",
    "                load_files_list.append(stock)\n",
    "                print(f\"JSON data saved to {file_path}\")\n",
    "        \n",
    "        with open('output.txt', 'w') as file:\n",
    "            file.write(f'{len(load_files_list)}' + '\\n')\n",
    "            # Write the intro string\n",
    "            file.write(f'The loaded stock files for {today} are :' + '\\n')\n",
    "\n",
    "            # Write each stock file on a new line\n",
    "            for stock_file in load_files_list:\n",
    "                file.write(\"----- \" + stock_file + '\\n')\n",
    "    \n",
    "    except Exception as error:\n",
    "        print(f'An unexpected error occurred: {error}')"
   ]
  },
  {
   "cell_type": "code",
   "execution_count": 93,
   "metadata": {},
   "outputs": [
    {
     "name": "stdout",
     "output_type": "stream",
     "text": [
      "JSON data saved to data/aapl.json\n",
      "JSON data saved to data/msft.json\n",
      "JSON data saved to data/amzn.json\n",
      "JSON data saved to data/tsla.json\n"
     ]
    }
   ],
   "source": [
    "daily_process()"
   ]
  },
  {
   "cell_type": "code",
   "execution_count": null,
   "metadata": {},
   "outputs": [],
   "source": [
    "\"27 00 * * *  /Users/mustapha/miniconda3/bin/python3 /Users/mustapha/Mon_disque/ML_projects/ML_Pipeline_Hub/azure_api_daily_load.py 2>&1\""
   ]
  },
  {
   "cell_type": "code",
   "execution_count": null,
   "metadata": {},
   "outputs": [],
   "source": [
    "\"/Users/mustapha/Mon disque/ML projects/ML_Pipeline_Hub/azure_api_daily_load.py\""
   ]
  }
 ],
 "metadata": {
  "kernelspec": {
   "display_name": "ml-ai",
   "language": "python",
   "name": "python3"
  },
  "language_info": {
   "codemirror_mode": {
    "name": "ipython",
    "version": 3
   },
   "file_extension": ".py",
   "mimetype": "text/x-python",
   "name": "python",
   "nbconvert_exporter": "python",
   "pygments_lexer": "ipython3",
   "version": "3.12.0"
  }
 },
 "nbformat": 4,
 "nbformat_minor": 2
}
