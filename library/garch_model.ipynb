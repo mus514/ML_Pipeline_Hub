{
 "cells": [
  {
   "cell_type": "markdown",
   "metadata": {
    "application/vnd.databricks.v1+cell": {
     "cellMetadata": {
      "byteLimit": 2048000,
      "rowLimit": 10000
     },
     "inputWidgets": {},
     "nuid": "d6a1e0fb-31aa-462d-9860-b6d7963d3ce0",
     "showTitle": false,
     "title": ""
    }
   },
   "source": [
    "---\n",
    "Author: Mustapha Bouhsen <br>\n",
    "[LinkedIn](https://www.linkedin.com/in/mustapha-bouhsen/)<br>\n",
    "[Git](https://github.com/mus514)<br>\n",
    "Date: February 9, 2024<br>\n",
    "---"
   ]
  },
  {
   "cell_type": "markdown",
   "metadata": {
    "application/vnd.databricks.v1+cell": {
     "cellMetadata": {
      "byteLimit": 2048000,
      "rowLimit": 10000
     },
     "inputWidgets": {},
     "nuid": "39615192-d8f5-476a-8604-7256b7f5194c",
     "showTitle": false,
     "title": ""
    }
   },
   "source": [
    "# Usefull function for the daily loads"
   ]
  },
  {
   "cell_type": "code",
   "execution_count": 0,
   "metadata": {
    "application/vnd.databricks.v1+cell": {
     "cellMetadata": {
      "byteLimit": 2048000,
      "rowLimit": 10000
     },
     "inputWidgets": {},
     "nuid": "5af7d6dd-6d88-4f1d-8d94-353b6b5db53d",
     "showTitle": false,
     "title": ""
    }
   },
   "outputs": [],
   "source": [
    "import pandas as pd\n",
    "import numpy as np\n",
    "\n",
    "import warnings\n",
    "warnings.filterwarnings(\"ignore\")\n",
    "\n",
    "import seaborn as sns\n",
    "from matplotlib import pyplot as plt\n",
    "from IPython.display import set_matplotlib_formats\n",
    "import matplotlib.ticker as mtick\n",
    "from sklearn.preprocessing import LabelEncoder\n",
    "import scipy.stats as ss\n",
    "from math import pi\n",
    "\n",
    "from scipy.optimize import minimize, Bounds, LinearConstraint"
   ]
  },
  {
   "cell_type": "code",
   "execution_count": 0,
   "metadata": {
    "application/vnd.databricks.v1+cell": {
     "cellMetadata": {
      "byteLimit": 2048000,
      "rowLimit": 10000
     },
     "inputWidgets": {},
     "nuid": "4c25ae66-8409-4425-b9b4-3a9220d2beba",
     "showTitle": false,
     "title": ""
    },
    "jupyter": {
     "outputs_hidden": true
    }
   },
   "outputs": [
    {
     "output_type": "stream",
     "name": "stderr",
     "output_type": "stream",
     "text": [
      "/root/.ipykernel/826/command-3996405578401645-4036587617:2: DeprecationWarning: `set_matplotlib_formats` is deprecated since IPython 7.23, directly use `matplotlib_inline.backend_inline.set_matplotlib_formats()`\n  set_matplotlib_formats('retina')\n"
     ]
    }
   ],
   "source": [
    "# Setting the matplotlib format to 'retina' for better display quality\n",
    "set_matplotlib_formats('retina')\n",
    "plt.style.use('seaborn-notebook')"
   ]
  },
  {
   "cell_type": "code",
   "execution_count": 0,
   "metadata": {
    "application/vnd.databricks.v1+cell": {
     "cellMetadata": {
      "byteLimit": 2048000,
      "rowLimit": 10000
     },
     "inputWidgets": {},
     "nuid": "8a2b4976-c273-404a-a752-15fb6dd77037",
     "showTitle": false,
     "title": ""
    }
   },
   "outputs": [],
   "source": [
    "#-----------------------------------------\n",
    "# Garch(1, 1) Model\n",
    "#-----------------------------------------\n",
    "def garch(theta, r):\n",
    "    \"\"\"\n",
    "    Compute the GARCH(1,1) volatility using the given parameters.\n",
    "\n",
    "    Parameters:\n",
    "    - theta (list): List containing GARCH parameters in the following order:\n",
    "        - w (float): Constant term.\n",
    "        - a (float): Coefficient for the lagged squared return term.\n",
    "        - b (float): Coefficient for the lagged volatility term.\n",
    "    - r (numpy.ndarray): Array of financial returns.\n",
    "\n",
    "    Returns:\n",
    "    - numpy.ndarray: Array containing the GARCH(1,1) volatility estimates for each period.\n",
    "    \"\"\"\n",
    "    # Extract the parameters\n",
    "    w = theta[0]\n",
    "    a = theta[1]\n",
    "    b = theta[2]\n",
    "\n",
    "    # Initialize array to store volatility estimates\n",
    "    T = len(r)\n",
    "    sigma = np.zeros(T + 1)\n",
    "    sigma[0] = w / (1 - a - b)\n",
    "\n",
    "    # Iterate to calculate volatility estimates\n",
    "    for i in range(1, T + 1):\n",
    "        sigma[i] = w + a * (r[i - 1] ** 2) + b * sigma[i - 1]\n",
    "\n",
    "    return sigma"
   ]
  },
  {
   "cell_type": "code",
   "execution_count": 0,
   "metadata": {
    "application/vnd.databricks.v1+cell": {
     "cellMetadata": {
      "byteLimit": 2048000,
      "rowLimit": 10000
     },
     "inputWidgets": {},
     "nuid": "97163c22-4021-4145-ae8b-84799c2cd183",
     "showTitle": false,
     "title": ""
    }
   },
   "outputs": [],
   "source": [
    "#-----------------------------------------\n",
    "# Normal distribution to minimize\n",
    "#-----------------------------------------\n",
    "def log_normal_likely(theta, r):\n",
    "    \"\"\"\n",
    "    Calculate the log-likelihood of a GARCH(1,1) model assuming normally distributed returns.\n",
    "\n",
    "    Parameters:\n",
    "    - theta (list): List containing GARCH parameters in the following order:\n",
    "        - w (float): Constant term.\n",
    "        - a (float): Coefficient for the lagged squared return term.\n",
    "        - b (float): Coefficient for the lagged volatility term.\n",
    "    - r (numpy.ndarray): Array of financial returns.\n",
    "\n",
    "    Returns:\n",
    "    - float: Log-likelihood value for the given GARCH parameters and returns.\n",
    "    \"\"\"\n",
    "    # Calculate GARCH(1,1) volatility using the provided parameters\n",
    "    sigma = garch(theta, r)[:-1]\n",
    "\n",
    "    # Calculate log-likelihood\n",
    "    ll = (-np.log(np.sqrt(2 * pi * sigma)) - 0.5 * (r ** 2) / sigma).sum()\n",
    "\n",
    "    # Check for finite log-likelihood values\n",
    "    if np.isfinite(ll):\n",
    "        return ll\n",
    "    else:\n",
    "        return 1e10"
   ]
  },
  {
   "cell_type": "code",
   "execution_count": 0,
   "metadata": {
    "application/vnd.databricks.v1+cell": {
     "cellMetadata": {
      "byteLimit": 2048000,
      "rowLimit": 10000
     },
     "inputWidgets": {},
     "nuid": "73ae18ee-7628-4308-b43f-eae3635c88c0",
     "showTitle": false,
     "title": ""
    }
   },
   "outputs": [],
   "source": [
    "#-----------------------------------------\n",
    "# Forcast the volatility for the next day\n",
    "#-----------------------------------------\n",
    "def forecast_vol(r):\n",
    "    \"\"\"\n",
    "    Forecast the volatility using a GARCH(1,1) model based on historical financial returns.\n",
    "\n",
    "    Parameters:\n",
    "    - r (numpy.ndarray): Array of historical financial returns.\n",
    "\n",
    "    Returns:\n",
    "    - numpy.ndarray: Array containing the forecasted GARCH(1,1) volatility for each period.\n",
    "    \"\"\"\n",
    "    # Initial guess for GARCH parameters\n",
    "    initial_guess = [0.01, 0.1, 0.8]\n",
    "\n",
    "    # Define negative log-likelihood function\n",
    "    neg_log_likelihood = lambda theta: -log_normal_likely(theta, r)\n",
    "\n",
    "    # Define parameter bounds\n",
    "    bounds = [(0, 1), (0.001, 0.99), (0.001, 0.99)]\n",
    "\n",
    "    # Use the minimize function with the constraints\n",
    "    result = minimize(neg_log_likelihood, initial_guess, method='BFGS', bounds=bounds)\n",
    "\n",
    "    # Extract the optimal parameters\n",
    "    optimal_theta = result.x\n",
    "\n",
    "    # Calculate GARCH(1,1) volatility using optimal parameters\n",
    "    sigma = garch(optimal_theta, r)\n",
    "\n",
    "    return sigma"
   ]
  }
 ],
 "metadata": {
  "application/vnd.databricks.v1+notebook": {
   "dashboards": [],
   "language": "python",
   "notebookMetadata": {
    "mostRecentlyExecutedCommandWithImplicitDF": {
     "commandId": 4493154419901656,
     "dataframes": [
      "_sqldf"
     ]
    },
    "pythonIndentUnit": 4
   },
   "notebookName": "garch_model",
   "widgets": {}
  },
  "kernelspec": {
   "display_name": "Python 3",
   "language": "python",
   "name": "python3"
  },
  "language_info": {
   "codemirror_mode": {
    "name": "ipython",
    "version": 3
   },
   "file_extension": ".py",
   "mimetype": "text/x-python",
   "name": "python",
   "nbconvert_exporter": "python",
   "pygments_lexer": "ipython3",
   "version": "3.12.1"
  }
 },
 "nbformat": 4,
 "nbformat_minor": 0
}
