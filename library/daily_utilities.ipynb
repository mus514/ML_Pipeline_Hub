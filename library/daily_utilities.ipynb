{
 "cells": [
  {
   "cell_type": "markdown",
   "metadata": {
    "application/vnd.databricks.v1+cell": {
     "cellMetadata": {},
     "inputWidgets": {},
     "nuid": "d6a1e0fb-31aa-462d-9860-b6d7963d3ce0",
     "showTitle": false,
     "title": ""
    }
   },
   "source": [
    "---\n",
    "Author: Mustapha Bouhsen <br>\n",
    "[LinkedIn](https://www.linkedin.com/in/mustapha-bouhsen/)<br>\n",
    "[Git](https://github.com/mus514)<br>\n",
    "Date: February 2, 2024<br>\n",
    "---"
   ]
  },
  {
   "cell_type": "markdown",
   "metadata": {
    "application/vnd.databricks.v1+cell": {
     "cellMetadata": {
      "byteLimit": 2048000,
      "rowLimit": 10000
     },
     "inputWidgets": {},
     "nuid": "39615192-d8f5-476a-8604-7256b7f5194c",
     "showTitle": false,
     "title": ""
    }
   },
   "source": [
    "# Usefull function for the daily loads"
   ]
  },
  {
   "cell_type": "code",
   "execution_count": 0,
   "metadata": {
    "application/vnd.databricks.v1+cell": {
     "cellMetadata": {
      "byteLimit": 2048000,
      "rowLimit": 10000
     },
     "inputWidgets": {},
     "nuid": "5af7d6dd-6d88-4f1d-8d94-353b6b5db53d",
     "showTitle": false,
     "title": ""
    }
   },
   "outputs": [],
   "source": [
    "from pyspark.sql.types import StructType, StructField, IntegerType, StringType, FloatType, DateType\n",
    "from pyspark.sql import functions as F\n",
    "import pandas as pd\n",
    "import numpy as np\n",
    "from datetime import datetime\n",
    "import json"
   ]
  },
  {
   "cell_type": "code",
   "execution_count": 0,
   "metadata": {
    "application/vnd.databricks.v1+cell": {
     "cellMetadata": {
      "byteLimit": 2048000,
      "rowLimit": 10000
     },
     "inputWidgets": {},
     "nuid": "31ca3f8d-013d-4956-b169-1a982b29dd74",
     "showTitle": false,
     "title": ""
    }
   },
   "outputs": [],
   "source": [
    "def get_files_paths_from_folders(folder_path, endsWith=None):\n",
    "    \"\"\"\n",
    "    Recursively retrieves the paths of all files within the specified folder and its subfolders.\n",
    "\n",
    "    Parameters:\n",
    "    - folder_path (str): The path to the folder for which file paths are to be retrieved.\n",
    "    - endsWith (str, optional): The suffix to filter files by. Defaults to \".parquet\".\n",
    "\n",
    "    Returns:\n",
    "    - List[str]: A list containing the paths of all files within the specified folder and its subfolders that end with the specified suffix.\n",
    "    \"\"\"\n",
    "    # Get the list of paths (files and subfolders) within the specified folder\n",
    "    paths = dbutils.fs.ls(folder_path)\n",
    "\n",
    "    # Initialize an empty list to store file paths\n",
    "    my_paths = []\n",
    "\n",
    "    # Iterate through the paths to identify files and subfolders\n",
    "    for key in paths:\n",
    "        # Check if the current path corresponds to a file\n",
    "        if key.isFile():\n",
    "            # If it's a file, append its path to the list\n",
    "            my_paths.append(key[0])\n",
    "        else:\n",
    "            # If it's a subfolder, recursively call the function to get file paths within the subfolder\n",
    "            my_paths = my_paths + get_files_paths_from_folders(key[0])\n",
    "\n",
    "    if endsWith != None:\n",
    "        # Filter the list of paths to include only those ending with the specified suffix\n",
    "        my_paths = [path for path in my_paths if path.endswith(endsWith)]\n",
    "\n",
    "    # Return the final list of file paths\n",
    "    return my_paths"
   ]
  },
  {
   "cell_type": "code",
   "execution_count": 0,
   "metadata": {
    "application/vnd.databricks.v1+cell": {
     "cellMetadata": {
      "byteLimit": 2048000,
      "rowLimit": 10000
     },
     "inputWidgets": {},
     "nuid": "f784adef-17bc-49e9-996c-30817685cb17",
     "showTitle": false,
     "title": ""
    }
   },
   "outputs": [],
   "source": [
    "def delete_contents_recursively(folder_path):\n",
    "    # List all files and subdirectories in the folder\n",
    "    contents = dbutils.fs.ls(folder_path)\n",
    "\n",
    "    # Delete each file and subdirectory\n",
    "    for content in contents:\n",
    "        if content.isDir():\n",
    "            # Recursively delete contents of subfolder\n",
    "            delete_contents_recursively(content.path)\n",
    "        else:\n",
    "            # Delete file\n",
    "            dbutils.fs.rm(content.path)\n",
    "\n",
    "    # After deleting all contents, delete the folder itself\n",
    "    dbutils.fs.rm(folder_path)"
   ]
  },
  {
   "cell_type": "code",
   "execution_count": 0,
   "metadata": {
    "application/vnd.databricks.v1+cell": {
     "cellMetadata": {
      "byteLimit": 2048000,
      "rowLimit": 10000
     },
     "inputWidgets": {},
     "nuid": "be82b42c-20cc-46fd-9c98-4bea31464e17",
     "showTitle": false,
     "title": ""
    }
   },
   "outputs": [],
   "source": [
    "def ingest_and_transform_to_parquet(files_paths, prod_folder_path, stock_name):\n",
    "    \"\"\"\n",
    "    Ingests data from specified files, extracts date information, and transforms it to Parquet format.\n",
    "\n",
    "    Parameters:\n",
    "    - files_paths (list): List of file paths to be ingested.\n",
    "    - prod_folder_path (str): Base path for the Parquet output.\n",
    "    - stock_name (str) : the stock name\n",
    "    \"\"\"\n",
    "    for file in files_paths:\n",
    "        # Extract date information from the file path\n",
    "        date_file = file.split(\"/\")[-3:-1]\n",
    "        year = int(date_file[0].split(\"=\")[1])\n",
    "        month = int(date_file[1].split(\"=\")[1])\n",
    "\n",
    "        # Build the destination Parquet file path\n",
    "        prod_file_path = f'{prod_folder_path}{stock_name.lower()}/year={year}/month={\"{:02}\".format(month)}/{stock_name}.parquet'\n",
    "        # Copy the file to the Parquet destination\n",
    "        dbutils.fs.cp(file, prod_file_path)"
   ]
  }
 ],
 "metadata": {
  "application/vnd.databricks.v1+notebook": {
   "dashboards": [],
   "language": "python",
   "notebookMetadata": {
    "mostRecentlyExecutedCommandWithImplicitDF": {
     "commandId": 4493154419901656,
     "dataframes": [
      "_sqldf"
     ]
    },
    "pythonIndentUnit": 4
   },
   "notebookName": "daily_utilities",
   "widgets": {}
  },
  "kernelspec": {
   "display_name": "Python 3",
   "language": "python",
   "name": "python3"
  },
  "language_info": {
   "codemirror_mode": {
    "name": "ipython",
    "version": 3
   },
   "file_extension": ".py",
   "mimetype": "text/x-python",
   "name": "python",
   "nbconvert_exporter": "python",
   "pygments_lexer": "ipython3",
   "version": "3.12.1"
  }
 },
 "nbformat": 4,
 "nbformat_minor": 0
}
