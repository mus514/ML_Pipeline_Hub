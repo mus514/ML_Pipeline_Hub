{
 "cells": [
  {
   "cell_type": "markdown",
   "metadata": {
    "application/vnd.databricks.v1+cell": {
     "cellMetadata": {
      "byteLimit": 2048000,
      "rowLimit": 10000
     },
     "inputWidgets": {},
     "nuid": "d6a1e0fb-31aa-462d-9860-b6d7963d3ce0",
     "showTitle": false,
     "title": ""
    }
   },
   "source": [
    "---\n",
    "Author: Mustapha Bouhsen <br>\n",
    "[LinkedIn](https://www.linkedin.com/in/mustapha-bouhsen/)<br>\n",
    "[Git](https://github.com/mus514)<br>\n",
    "Date: February 7, 2024<br>\n",
    "---"
   ]
  },
  {
   "cell_type": "code",
   "execution_count": 0,
   "metadata": {
    "application/vnd.databricks.v1+cell": {
     "cellMetadata": {
      "byteLimit": 2048000,
      "rowLimit": 10000
     },
     "inputWidgets": {},
     "nuid": "4046b9d0-c903-403d-963f-8d5e31004e2c",
     "showTitle": false,
     "title": ""
    }
   },
   "outputs": [],
   "source": [
    "#-----------------------------------------\n",
    "# load libraries\n",
    "#-----------------------------------------\n",
    "from pyspark.sql.window import Window\n",
    "from pyspark.sql import functions as F \n",
    "import pandas as pd\n",
    "import numpy as np\n"
   ]
  },
  {
   "cell_type": "markdown",
   "metadata": {
    "application/vnd.databricks.v1+cell": {
     "cellMetadata": {
      "byteLimit": 2048000,
      "rowLimit": 10000
     },
     "inputWidgets": {},
     "nuid": "bfc5e317-cb99-4d6b-a211-a1ab8bb20e94",
     "showTitle": false,
     "title": ""
    }
   },
   "source": [
    "\n",
    "### Create table from Azure storage for each stock\n"
   ]
  },
  {
   "cell_type": "code",
   "execution_count": 0,
   "metadata": {
    "application/vnd.databricks.v1+cell": {
     "cellMetadata": {
      "byteLimit": 2048000,
      "rowLimit": 10000
     },
     "inputWidgets": {},
     "nuid": "2f47e9a0-8af0-4cb1-a7e3-53390d8a033d",
     "showTitle": false,
     "title": ""
    }
   },
   "outputs": [],
   "source": [
    "#-----------------------------------------\n",
    "# Set the prod folder path\n",
    "#-----------------------------------------\n",
    "prod_folder_path = \"/mnt/prod/\"\n",
    "\n",
    "stocks = [\"aapl\", \"amzn\", \"googl\", \"msft\"]"
   ]
  },
  {
   "cell_type": "code",
   "execution_count": 0,
   "metadata": {
    "application/vnd.databricks.v1+cell": {
     "cellMetadata": {
      "byteLimit": 2048000,
      "rowLimit": 10000
     },
     "inputWidgets": {},
     "nuid": "57ac4cf0-2ddf-4af0-8461-29b14bc6f610",
     "showTitle": false,
     "title": ""
    }
   },
   "outputs": [
    {
     "output_type": "stream",
     "name": "stdout",
     "output_type": "stream",
     "text": [
      "Dropped table: aapl\nTable for aapl is created\nDropped table: amzn\nTable for amzn is created\nDropped table: googl\nTable for googl is created\nDropped table: msft\nTable for msft is created\n"
     ]
    }
   ],
   "source": [
    "#-----------------------------------------\n",
    "# Create the daily table for each stock\n",
    "#-----------------------------------------\n",
    "for stock in stocks:\n",
    "    # Create the path for the stock\n",
    "    path = f'{prod_folder_path}{stock}/year=*/month=*/*'\n",
    "    # Load all the parquet files at once\n",
    "    df = spark.read.parquet(path)\n",
    "    \n",
    "    # Check if the table exists\n",
    "    if spark.catalog.tableExists(stock):\n",
    "        # Drop the existing table\n",
    "        spark.sql(f\"DROP TABLE {stock}\")\n",
    "        print(f'Dropped table: {stock}')\n",
    "    \n",
    "    # Create the table\n",
    "    df.write.format(\"parquet\").saveAsTable(stock)\n",
    "    print(f'Table for {stock} is created')"
   ]
  },
  {
   "cell_type": "code",
   "execution_count": 0,
   "metadata": {
    "application/vnd.databricks.v1+cell": {
     "cellMetadata": {
      "byteLimit": 2048000,
      "implicitDf": true,
      "rowLimit": 10000
     },
     "inputWidgets": {},
     "nuid": "52b3ea96-efa5-4327-8e5f-e64b70bddd7c",
     "showTitle": false,
     "title": ""
    }
   },
   "outputs": [
    {
     "output_type": "display_data",
     "data": {
      "text/html": [
       "<style scoped>\n",
       "  .table-result-container {\n",
       "    max-height: 300px;\n",
       "    overflow: auto;\n",
       "  }\n",
       "  table, th, td {\n",
       "    border: 1px solid black;\n",
       "    border-collapse: collapse;\n",
       "  }\n",
       "  th, td {\n",
       "    padding: 5px;\n",
       "  }\n",
       "  th {\n",
       "    text-align: left;\n",
       "  }\n",
       "</style><div class='table-result-container'><table class='table-result'><thead style='background-color: white'><tr><th>date</th><th>open</th><th>high</th><th>low</th><th>close</th><th>volume</th></tr></thead><tbody><tr><td>2019-10-31</td><td>247.24</td><td>249.17</td><td>237.26</td><td>248.76</td><td>3.479052E7</td></tr><tr><td>2019-10-30</td><td>244.76</td><td>245.3</td><td>241.21</td><td>243.26</td><td>3.1130522E7</td></tr><tr><td>2019-10-29</td><td>248.97</td><td>249.75</td><td>242.57</td><td>243.29</td><td>3.5709868E7</td></tr><tr><td>2019-10-28</td><td>247.42</td><td>249.25</td><td>246.72</td><td>249.05</td><td>2.3655368E7</td></tr><tr><td>2019-10-25</td><td>243.16</td><td>246.73</td><td>242.88</td><td>246.58</td><td>1.8369296E7</td></tr><tr><td>2019-10-24</td><td>244.51</td><td>244.8</td><td>241.81</td><td>243.58</td><td>1.7916256E7</td></tr><tr><td>2019-10-23</td><td>242.1</td><td>243.24</td><td>241.22</td><td>243.18</td><td>1.9932544E7</td></tr><tr><td>2019-10-22</td><td>241.16</td><td>242.2</td><td>239.62</td><td>239.96</td><td>2.2684E7</td></tr><tr><td>2019-10-21</td><td>237.52</td><td>240.99</td><td>237.32</td><td>240.51</td><td>2.1811568E7</td></tr><tr><td>2019-10-18</td><td>234.59</td><td>237.58</td><td>234.29</td><td>236.41</td><td>2.4248024E7</td></tr></tbody></table></div>"
      ]
     },
     "metadata": {
      "application/vnd.databricks.v1+output": {
       "addedWidgets": {},
       "aggData": [],
       "aggError": "",
       "aggOverflow": false,
       "aggSchema": [],
       "aggSeriesLimitReached": false,
       "aggType": "",
       "arguments": {},
       "columnCustomDisplayInfos": {},
       "data": [
        [
         "2019-10-31",
         247.24,
         249.17,
         237.26,
         248.76,
         3.479052E7
        ],
        [
         "2019-10-30",
         244.76,
         245.3,
         241.21,
         243.26,
         3.1130522E7
        ],
        [
         "2019-10-29",
         248.97,
         249.75,
         242.57,
         243.29,
         3.5709868E7
        ],
        [
         "2019-10-28",
         247.42,
         249.25,
         246.72,
         249.05,
         2.3655368E7
        ],
        [
         "2019-10-25",
         243.16,
         246.73,
         242.88,
         246.58,
         1.8369296E7
        ],
        [
         "2019-10-24",
         244.51,
         244.8,
         241.81,
         243.58,
         1.7916256E7
        ],
        [
         "2019-10-23",
         242.1,
         243.24,
         241.22,
         243.18,
         1.9932544E7
        ],
        [
         "2019-10-22",
         241.16,
         242.2,
         239.62,
         239.96,
         2.2684E7
        ],
        [
         "2019-10-21",
         237.52,
         240.99,
         237.32,
         240.51,
         2.1811568E7
        ],
        [
         "2019-10-18",
         234.59,
         237.58,
         234.29,
         236.41,
         2.4248024E7
        ]
       ],
       "datasetInfos": [],
       "dbfsResultPath": null,
       "isJsonSchema": true,
       "metadata": {
        "dataframeName": "_sqldf",
        "executionCount": 4
       },
       "overflow": false,
       "plotOptions": {
        "customPlotOptions": {},
        "displayType": "table",
        "pivotAggregation": null,
        "pivotColumns": null,
        "xColumns": null,
        "yColumns": null
       },
       "removedWidgets": [],
       "schema": [
        {
         "metadata": "{}",
         "name": "date",
         "type": "\"date\""
        },
        {
         "metadata": "{}",
         "name": "open",
         "type": "\"float\""
        },
        {
         "metadata": "{}",
         "name": "high",
         "type": "\"float\""
        },
        {
         "metadata": "{}",
         "name": "low",
         "type": "\"float\""
        },
        {
         "metadata": "{}",
         "name": "close",
         "type": "\"float\""
        },
        {
         "metadata": "{}",
         "name": "volume",
         "type": "\"float\""
        }
       ],
       "type": "table"
      }
     },
     "output_type": "display_data"
    }
   ],
   "source": [
    "%sql\n",
    "\n",
    "--- Display the table for apple stock\n",
    "SELECT *\n",
    "FROM aapl\n",
    "LIMIT 10"
   ]
  },
  {
   "cell_type": "code",
   "execution_count": 0,
   "metadata": {
    "application/vnd.databricks.v1+cell": {
     "cellMetadata": {
      "byteLimit": 2048000,
      "implicitDf": true,
      "rowLimit": 10000
     },
     "inputWidgets": {},
     "nuid": "cf510545-08f5-40d8-8a7f-b2a98a32abe8",
     "showTitle": false,
     "title": ""
    }
   },
   "outputs": [
    {
     "output_type": "display_data",
     "data": {
      "text/html": [
       "<style scoped>\n",
       "  .table-result-container {\n",
       "    max-height: 300px;\n",
       "    overflow: auto;\n",
       "  }\n",
       "  table, th, td {\n",
       "    border: 1px solid black;\n",
       "    border-collapse: collapse;\n",
       "  }\n",
       "  th, td {\n",
       "    padding: 5px;\n",
       "  }\n",
       "  th {\n",
       "    text-align: left;\n",
       "  }\n",
       "</style><div class='table-result-container'><table class='table-result'><thead style='background-color: white'><tr><th>year</th><th>mean_stock_price_by_year</th></tr></thead><tbody><tr><td>1999</td><td>96.85930278689362</td></tr><tr><td>2000</td><td>71.74892876261757</td></tr><tr><td>2001</td><td>20.219112992286682</td></tr><tr><td>2002</td><td>19.13952378621177</td></tr><tr><td>2003</td><td>18.54334883462815</td></tr><tr><td>2004</td><td>35.52689698385814</td></tr><tr><td>2005</td><td>51.68272765139316</td></tr><tr><td>2006</td><td>70.81172754660071</td></tr><tr><td>2007</td><td>128.27446834974555</td></tr><tr><td>2008</td><td>141.9790202506446</td></tr><tr><td>2009</td><td>146.81543819488041</td></tr><tr><td>2010</td><td>259.84239196777344</td></tr><tr><td>2011</td><td>362.8055197397868</td></tr><tr><td>2012</td><td>576.0497520751953</td></tr><tr><td>2013</td><td>472.63482290600973</td></tr><tr><td>2014</td><td>295.4022496238587</td></tr><tr><td>2015</td><td>120.03847200908358</td></tr><tr><td>2016</td><td>104.60400790259952</td></tr><tr><td>2017</td><td>150.55105554345118</td></tr><tr><td>2018</td><td>189.60557909248288</td></tr><tr><td>2019</td><td>208.25595219930014</td></tr><tr><td>2020</td><td>259.90995996648616</td></tr><tr><td>2021</td><td>140.9893254779634</td></tr><tr><td>2022</td><td>154.83505969408498</td></tr><tr><td>2023</td><td>172.54896026611328</td></tr><tr><td>2024</td><td>187.76407312463832</td></tr></tbody></table></div>"
      ]
     },
     "metadata": {
      "application/vnd.databricks.v1+output": {
       "addedWidgets": {},
       "aggData": [],
       "aggError": "",
       "aggOverflow": false,
       "aggSchema": [],
       "aggSeriesLimitReached": false,
       "aggType": "",
       "arguments": {},
       "columnCustomDisplayInfos": {},
       "data": [
        [
         1999,
         96.85930278689362
        ],
        [
         2000,
         71.74892876261757
        ],
        [
         2001,
         20.219112992286682
        ],
        [
         2002,
         19.13952378621177
        ],
        [
         2003,
         18.54334883462815
        ],
        [
         2004,
         35.52689698385814
        ],
        [
         2005,
         51.68272765139316
        ],
        [
         2006,
         70.81172754660071
        ],
        [
         2007,
         128.27446834974555
        ],
        [
         2008,
         141.9790202506446
        ],
        [
         2009,
         146.81543819488041
        ],
        [
         2010,
         259.84239196777344
        ],
        [
         2011,
         362.8055197397868
        ],
        [
         2012,
         576.0497520751953
        ],
        [
         2013,
         472.63482290600973
        ],
        [
         2014,
         295.4022496238587
        ],
        [
         2015,
         120.03847200908358
        ],
        [
         2016,
         104.60400790259952
        ],
        [
         2017,
         150.55105554345118
        ],
        [
         2018,
         189.60557909248288
        ],
        [
         2019,
         208.25595219930014
        ],
        [
         2020,
         259.90995996648616
        ],
        [
         2021,
         140.9893254779634
        ],
        [
         2022,
         154.83505969408498
        ],
        [
         2023,
         172.54896026611328
        ],
        [
         2024,
         187.76407312463832
        ]
       ],
       "datasetInfos": [],
       "dbfsResultPath": null,
       "isJsonSchema": true,
       "metadata": {
        "dataframeName": "_sqldf",
        "executionCount": 5
       },
       "overflow": false,
       "plotOptions": {
        "customPlotOptions": {},
        "displayType": "table",
        "pivotAggregation": null,
        "pivotColumns": null,
        "xColumns": null,
        "yColumns": null
       },
       "removedWidgets": [],
       "schema": [
        {
         "metadata": "{}",
         "name": "year",
         "type": "\"integer\""
        },
        {
         "metadata": "{}",
         "name": "mean_stock_price_by_year",
         "type": "\"double\""
        }
       ],
       "type": "table"
      }
     },
     "output_type": "display_data"
    }
   ],
   "source": [
    "%sql\n",
    "-- Disply the year average stock price for aapl\n",
    "SELECT year(date) as year, avg(close) as mean_stock_price_by_year\n",
    "FROM aapl\n",
    "GROUP BY year(date)\n",
    "ORDER BY year(date)"
   ]
  },
  {
   "cell_type": "markdown",
   "metadata": {
    "application/vnd.databricks.v1+cell": {
     "cellMetadata": {
      "byteLimit": 2048000,
      "rowLimit": 10000
     },
     "inputWidgets": {},
     "nuid": "3a1f1936-2d9c-4811-8b05-a0562625c677",
     "showTitle": false,
     "title": ""
    }
   },
   "source": [
    "## Creating table for stocks prices"
   ]
  },
  {
   "cell_type": "code",
   "execution_count": 0,
   "metadata": {
    "application/vnd.databricks.v1+cell": {
     "cellMetadata": {
      "byteLimit": 2048000,
      "implicitDf": true,
      "rowLimit": 10000
     },
     "inputWidgets": {},
     "nuid": "a0bc7d43-37e4-43e3-b1e1-987f4098d939",
     "showTitle": false,
     "title": ""
    }
   },
   "outputs": [
    {
     "output_type": "display_data",
     "data": {
      "text/html": [
       "<style scoped>\n",
       "  .table-result-container {\n",
       "    max-height: 300px;\n",
       "    overflow: auto;\n",
       "  }\n",
       "  table, th, td {\n",
       "    border: 1px solid black;\n",
       "    border-collapse: collapse;\n",
       "  }\n",
       "  th, td {\n",
       "    padding: 5px;\n",
       "  }\n",
       "  th {\n",
       "    text-align: left;\n",
       "  }\n",
       "</style><div class='table-result-container'><table class='table-result'><thead style='background-color: white'><tr><th>num_affected_rows</th><th>num_inserted_rows</th></tr></thead><tbody></tbody></table></div>"
      ]
     },
     "metadata": {
      "application/vnd.databricks.v1+output": {
       "addedWidgets": {},
       "aggData": [],
       "aggError": "",
       "aggOverflow": false,
       "aggSchema": [],
       "aggSeriesLimitReached": false,
       "aggType": "",
       "arguments": {},
       "columnCustomDisplayInfos": {},
       "data": [],
       "datasetInfos": [],
       "dbfsResultPath": null,
       "isJsonSchema": true,
       "metadata": {
        "dataframeName": "_sqldf",
        "executionCount": 6
       },
       "overflow": false,
       "plotOptions": {
        "customPlotOptions": {},
        "displayType": "table",
        "pivotAggregation": null,
        "pivotColumns": null,
        "xColumns": null,
        "yColumns": null
       },
       "removedWidgets": [],
       "schema": [
        {
         "metadata": "{}",
         "name": "num_affected_rows",
         "type": "\"long\""
        },
        {
         "metadata": "{}",
         "name": "num_inserted_rows",
         "type": "\"long\""
        }
       ],
       "type": "table"
      }
     },
     "output_type": "display_data"
    }
   ],
   "source": [
    "%sql\n",
    "DROP TABLE IF EXISTS stocks_prices;\n",
    "\n",
    "CREATE TABLE stocks_prices AS\n",
    "SELECT aapl.date, aapl.adj_close as aapl, amzn.adj_close as amzn, msft.adj_close as msft, googl.adj_close as googl\n",
    "FROM aapl\n",
    "JOIN amzn ON aapl.date = amzn.date\n",
    "JOIN msft ON aapl.date = msft.date\n",
    "JOIN googl ON aapl.date = googl.date\n",
    "ORDER BY date;"
   ]
  },
  {
   "cell_type": "code",
   "execution_count": 0,
   "metadata": {
    "application/vnd.databricks.v1+cell": {
     "cellMetadata": {
      "byteLimit": 2048000,
      "implicitDf": true,
      "rowLimit": 10000
     },
     "inputWidgets": {},
     "nuid": "e3ae9ce4-45d1-4926-9ed9-509c17466f0a",
     "showTitle": false,
     "title": ""
    }
   },
   "outputs": [
    {
     "output_type": "display_data",
     "data": {
      "text/html": [
       "<style scoped>\n",
       "  .table-result-container {\n",
       "    max-height: 300px;\n",
       "    overflow: auto;\n",
       "  }\n",
       "  table, th, td {\n",
       "    border: 1px solid black;\n",
       "    border-collapse: collapse;\n",
       "  }\n",
       "  th, td {\n",
       "    padding: 5px;\n",
       "  }\n",
       "  th {\n",
       "    text-align: left;\n",
       "  }\n",
       "</style><div class='table-result-container'><table class='table-result'><thead style='background-color: white'><tr><th>date</th><th>aapl</th><th>amzn</th><th>msft</th><th>googl</th></tr></thead><tbody><tr><td>2024-02-08</td><td>188.32</td><td>169.84</td><td>414.11</td><td>145.91</td></tr><tr><td>2024-02-07</td><td>189.41</td><td>170.53</td><td>414.05</td><td>145.54</td></tr><tr><td>2024-02-06</td><td>189.3</td><td>169.15</td><td>405.49</td><td>144.1</td></tr><tr><td>2024-02-05</td><td>187.68</td><td>170.31</td><td>405.65</td><td>143.68</td></tr><tr><td>2024-02-02</td><td>185.85</td><td>171.81</td><td>411.22</td><td>142.38</td></tr><tr><td>2024-02-01</td><td>186.86</td><td>159.28</td><td>403.78</td><td>141.16</td></tr><tr><td>2024-01-31</td><td>184.4</td><td>155.2</td><td>397.58</td><td>140.1</td></tr><tr><td>2024-01-30</td><td>188.04</td><td>159.0</td><td>408.59</td><td>151.46</td></tr><tr><td>2024-01-29</td><td>191.73</td><td>161.26</td><td>409.72</td><td>153.51</td></tr><tr><td>2024-01-26</td><td>192.42</td><td>159.12</td><td>403.93</td><td>152.185</td></tr></tbody></table></div>"
      ]
     },
     "metadata": {
      "application/vnd.databricks.v1+output": {
       "addedWidgets": {},
       "aggData": [],
       "aggError": "",
       "aggOverflow": false,
       "aggSchema": [],
       "aggSeriesLimitReached": false,
       "aggType": "",
       "arguments": {},
       "columnCustomDisplayInfos": {},
       "data": [
        [
         "2024-02-08",
         188.32,
         169.84,
         414.11,
         145.91
        ],
        [
         "2024-02-07",
         189.41,
         170.53,
         414.05,
         145.54
        ],
        [
         "2024-02-06",
         189.3,
         169.15,
         405.49,
         144.1
        ],
        [
         "2024-02-05",
         187.68,
         170.31,
         405.65,
         143.68
        ],
        [
         "2024-02-02",
         185.85,
         171.81,
         411.22,
         142.38
        ],
        [
         "2024-02-01",
         186.86,
         159.28,
         403.78,
         141.16
        ],
        [
         "2024-01-31",
         184.4,
         155.2,
         397.58,
         140.1
        ],
        [
         "2024-01-30",
         188.04,
         159.0,
         408.59,
         151.46
        ],
        [
         "2024-01-29",
         191.73,
         161.26,
         409.72,
         153.51
        ],
        [
         "2024-01-26",
         192.42,
         159.12,
         403.93,
         152.185
        ]
       ],
       "datasetInfos": [],
       "dbfsResultPath": null,
       "isJsonSchema": true,
       "metadata": {
        "dataframeName": "_sqldf",
        "executionCount": 7
       },
       "overflow": false,
       "plotOptions": {
        "customPlotOptions": {},
        "displayType": "table",
        "pivotAggregation": null,
        "pivotColumns": null,
        "xColumns": null,
        "yColumns": null
       },
       "removedWidgets": [],
       "schema": [
        {
         "metadata": "{}",
         "name": "date",
         "type": "\"date\""
        },
        {
         "metadata": "{}",
         "name": "aapl",
         "type": "\"float\""
        },
        {
         "metadata": "{}",
         "name": "amzn",
         "type": "\"float\""
        },
        {
         "metadata": "{}",
         "name": "msft",
         "type": "\"float\""
        },
        {
         "metadata": "{}",
         "name": "googl",
         "type": "\"float\""
        }
       ],
       "type": "table"
      }
     },
     "output_type": "display_data"
    }
   ],
   "source": [
    "%sql\n",
    "-- Disply the stock prices\n",
    "SELECT *\n",
    "FROM stocks_prices\n",
    "ORDER BY date DESC\n",
    "LIMIT 10"
   ]
  },
  {
   "cell_type": "markdown",
   "metadata": {
    "application/vnd.databricks.v1+cell": {
     "cellMetadata": {
      "byteLimit": 2048000,
      "rowLimit": 10000
     },
     "inputWidgets": {},
     "nuid": "68a3e8a6-8de3-488b-b95f-570a88f24dca",
     "showTitle": false,
     "title": ""
    }
   },
   "source": [
    "## Creating table containg the log return for each stock prices"
   ]
  },
  {
   "cell_type": "markdown",
   "metadata": {
    "application/vnd.databricks.v1+cell": {
     "cellMetadata": {
      "byteLimit": 2048000,
      "rowLimit": 10000
     },
     "inputWidgets": {},
     "nuid": "c9486406-37f0-4ebc-a163-95af207c0da6",
     "showTitle": false,
     "title": ""
    }
   },
   "source": [
    "The log return is given by :\n",
    "\n",
    "$$\n",
    "r_t = log(\\frac{P_t}{P_{t-1}})\n",
    "$$\n",
    "\n",
    "Where $P_t$ is the stock price at time t"
   ]
  },
  {
   "cell_type": "code",
   "execution_count": 0,
   "metadata": {
    "application/vnd.databricks.v1+cell": {
     "cellMetadata": {
      "byteLimit": 2048000,
      "rowLimit": 10000
     },
     "inputWidgets": {},
     "nuid": "9e34f57c-f4b0-4f36-b653-9664f29a6b15",
     "showTitle": false,
     "title": ""
    }
   },
   "outputs": [
    {
     "output_type": "stream",
     "name": "stdout",
     "output_type": "stream",
     "text": [
      "Dropped table: stocks_returns\n"
     ]
    }
   ],
   "source": [
    "#-----------------------------------------\n",
    "# Loading the stocks_prices table and calculate the log return for each stock\n",
    "#-----------------------------------------\n",
    "df = spark.sql(\"SELECT * FROM stocks_prices\")\n",
    "\n",
    "# Calculate the log return for each stock\n",
    "for stock in stocks:\n",
    "    # Order by date\n",
    "    df = df.orderBy(\"date\")\n",
    "    # Create a window specification\n",
    "    windowSpec = Window.orderBy(\"date\")\n",
    "    # Calculate log return\n",
    "    col_expr = F.log(df[stock]) - F.lag(F.log(df[stock])).over(windowSpec)\n",
    "    # Round the return\n",
    "    col_expr_rounded = F.round(col_expr, 6)\n",
    "    # Assign the new column to the dataframe\n",
    "    df = df.withColumn(stock, col_expr_rounded)\n",
    "\n",
    "# Delete The Null row\n",
    "df = df.na.drop()\n",
    "\n",
    "# Check if the table exists\n",
    "if spark.catalog.tableExists(\"stocks_returns\"):\n",
    "    # Drop the existing table\n",
    "    spark.sql(f\"DROP TABLE stocks_returns\")\n",
    "    print(f'Dropped table: stocks_returns')\n",
    "\n",
    "\n",
    "# Create the table\n",
    "df.write.format(\"parquet\").saveAsTable(\"stocks_returns\")"
   ]
  },
  {
   "cell_type": "code",
   "execution_count": 0,
   "metadata": {
    "application/vnd.databricks.v1+cell": {
     "cellMetadata": {
      "byteLimit": 2048000,
      "implicitDf": true,
      "rowLimit": 10000
     },
     "inputWidgets": {},
     "nuid": "278d974c-0a51-40e0-b4cc-a7ae673497b8",
     "showTitle": false,
     "title": ""
    }
   },
   "outputs": [
    {
     "output_type": "display_data",
     "data": {
      "text/html": [
       "<style scoped>\n",
       "  .table-result-container {\n",
       "    max-height: 300px;\n",
       "    overflow: auto;\n",
       "  }\n",
       "  table, th, td {\n",
       "    border: 1px solid black;\n",
       "    border-collapse: collapse;\n",
       "  }\n",
       "  th, td {\n",
       "    padding: 5px;\n",
       "  }\n",
       "  th {\n",
       "    text-align: left;\n",
       "  }\n",
       "</style><div class='table-result-container'><table class='table-result'><thead style='background-color: white'><tr><th>date</th><th>aapl</th><th>amzn</th><th>msft</th><th>googl</th></tr></thead><tbody><tr><td>2024-02-08</td><td>-0.005772</td><td>-0.004055</td><td>1.45E-4</td><td>0.002539</td></tr><tr><td>2024-02-07</td><td>5.81E-4</td><td>0.008125</td><td>0.020891</td><td>0.009943</td></tr><tr><td>2024-02-06</td><td>0.008595</td><td>-0.006835</td><td>-3.95E-4</td><td>0.002919</td></tr><tr><td>2024-02-05</td><td>0.009799</td><td>-0.008769</td><td>-0.013638</td><td>0.009089</td></tr><tr><td>2024-02-02</td><td>-0.00542</td><td>0.075726</td><td>0.018258</td><td>0.008605</td></tr><tr><td>2024-02-01</td><td>0.013252</td><td>0.025949</td><td>0.015474</td><td>0.007537</td></tr><tr><td>2024-01-31</td><td>-0.019547</td><td>-0.02419</td><td>-0.027316</td><td>-0.077965</td></tr><tr><td>2024-01-30</td><td>-0.019433</td><td>-0.014113</td><td>-0.002762</td><td>-0.013444</td></tr><tr><td>2024-01-29</td><td>-0.003592</td><td>0.013359</td><td>0.014232</td><td>0.008669</td></tr><tr><td>2024-01-26</td><td>-0.009054</td><td>0.008647</td><td>-0.002324</td><td>0.002072</td></tr></tbody></table></div>"
      ]
     },
     "metadata": {
      "application/vnd.databricks.v1+output": {
       "addedWidgets": {},
       "aggData": [],
       "aggError": "",
       "aggOverflow": false,
       "aggSchema": [],
       "aggSeriesLimitReached": false,
       "aggType": "",
       "arguments": {},
       "columnCustomDisplayInfos": {},
       "data": [
        [
         "2024-02-08",
         -0.005772,
         -0.004055,
         1.45E-4,
         0.002539
        ],
        [
         "2024-02-07",
         5.81E-4,
         0.008125,
         0.020891,
         0.009943
        ],
        [
         "2024-02-06",
         0.008595,
         -0.006835,
         -3.95E-4,
         0.002919
        ],
        [
         "2024-02-05",
         0.009799,
         -0.008769,
         -0.013638,
         0.009089
        ],
        [
         "2024-02-02",
         -0.00542,
         0.075726,
         0.018258,
         0.008605
        ],
        [
         "2024-02-01",
         0.013252,
         0.025949,
         0.015474,
         0.007537
        ],
        [
         "2024-01-31",
         -0.019547,
         -0.02419,
         -0.027316,
         -0.077965
        ],
        [
         "2024-01-30",
         -0.019433,
         -0.014113,
         -0.002762,
         -0.013444
        ],
        [
         "2024-01-29",
         -0.003592,
         0.013359,
         0.014232,
         0.008669
        ],
        [
         "2024-01-26",
         -0.009054,
         0.008647,
         -0.002324,
         0.002072
        ]
       ],
       "datasetInfos": [],
       "dbfsResultPath": null,
       "isJsonSchema": true,
       "metadata": {
        "dataframeName": "_sqldf",
        "executionCount": 9
       },
       "overflow": false,
       "plotOptions": {
        "customPlotOptions": {},
        "displayType": "table",
        "pivotAggregation": null,
        "pivotColumns": null,
        "xColumns": null,
        "yColumns": null
       },
       "removedWidgets": [],
       "schema": [
        {
         "metadata": "{}",
         "name": "date",
         "type": "\"date\""
        },
        {
         "metadata": "{}",
         "name": "aapl",
         "type": "\"double\""
        },
        {
         "metadata": "{}",
         "name": "amzn",
         "type": "\"double\""
        },
        {
         "metadata": "{}",
         "name": "msft",
         "type": "\"double\""
        },
        {
         "metadata": "{}",
         "name": "googl",
         "type": "\"double\""
        }
       ],
       "type": "table"
      }
     },
     "output_type": "display_data"
    }
   ],
   "source": [
    "%sql\n",
    "-- Disply the stocks_returns\n",
    "SELECT *\n",
    "FROM stocks_returns\n",
    "ORDER BY date DESC\n",
    "LIMIT 10\n"
   ]
  }
 ],
 "metadata": {
  "application/vnd.databricks.v1+notebook": {
   "dashboards": [],
   "language": "python",
   "notebookMetadata": {
    "mostRecentlyExecutedCommandWithImplicitDF": {
     "commandId": 3573657800724953,
     "dataframes": [
      "_sqldf"
     ]
    },
    "pythonIndentUnit": 4
   },
   "notebookName": "sql_daily_table",
   "widgets": {}
  },
  "kernelspec": {
   "display_name": "Python 3",
   "language": "python",
   "name": "python3"
  },
  "language_info": {
   "codemirror_mode": {
    "name": "ipython",
    "version": 3
   },
   "file_extension": ".py",
   "mimetype": "text/x-python",
   "name": "python",
   "nbconvert_exporter": "python",
   "pygments_lexer": "ipython3",
   "version": "3.12.1"
  }
 },
 "nbformat": 4,
 "nbformat_minor": 0
}
