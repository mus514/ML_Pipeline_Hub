{
 "cells": [
  {
   "cell_type": "markdown",
   "metadata": {
    "application/vnd.databricks.v1+cell": {
     "cellMetadata": {
      "byteLimit": 2048000,
      "rowLimit": 10000
     },
     "inputWidgets": {},
     "nuid": "d6a1e0fb-31aa-462d-9860-b6d7963d3ce0",
     "showTitle": false,
     "title": ""
    }
   },
   "source": [
    "---\n",
    "Author: Mustapha Bouhsen <br>\n",
    "[LinkedIn](https://www.linkedin.com/in/mustapha-bouhsen/)<br>\n",
    "[Git](https://github.com/mus514)<br>\n",
    "Date: February 7, 2024<br>\n",
    "---"
   ]
  },
  {
   "cell_type": "code",
   "execution_count": 0,
   "metadata": {
    "application/vnd.databricks.v1+cell": {
     "cellMetadata": {
      "byteLimit": 2048000,
      "rowLimit": 10000
     },
     "inputWidgets": {},
     "nuid": "4c37ce64-7be6-4c97-9b71-6b27b9fbfc18",
     "showTitle": false,
     "title": ""
    }
   },
   "outputs": [],
   "source": [
    "%run Repos/mustapha.bouhsen@hec.ca/ML_Pipeline_Hub/library/garch_model"
   ]
  },
  {
   "cell_type": "code",
   "execution_count": 0,
   "metadata": {
    "application/vnd.databricks.v1+cell": {
     "cellMetadata": {
      "byteLimit": 2048000,
      "rowLimit": 10000
     },
     "inputWidgets": {},
     "nuid": "4046b9d0-c903-403d-963f-8d5e31004e2c",
     "showTitle": false,
     "title": ""
    }
   },
   "outputs": [],
   "source": [
    "#-----------------------------------------\n",
    "# load libraries\n",
    "#-----------------------------------------\n",
    "from pyspark.sql.window import Window\n",
    "from pyspark.sql.types import StructType, StructField, IntegerType, StringType, FloatType, DateType\n",
    "from pyspark.sql import functions as F \n",
    "from pyspark.sql.functions import udf\n",
    "import pandas as pd\n",
    "import numpy as np\n"
   ]
  },
  {
   "cell_type": "markdown",
   "metadata": {
    "application/vnd.databricks.v1+cell": {
     "cellMetadata": {
      "byteLimit": 2048000,
      "rowLimit": 10000
     },
     "inputWidgets": {},
     "nuid": "bfc5e317-cb99-4d6b-a211-a1ab8bb20e94",
     "showTitle": false,
     "title": ""
    }
   },
   "source": [
    "\n",
    "### Create table from Azure storage for each stock\n"
   ]
  },
  {
   "cell_type": "code",
   "execution_count": 0,
   "metadata": {
    "application/vnd.databricks.v1+cell": {
     "cellMetadata": {
      "byteLimit": 2048000,
      "rowLimit": 10000
     },
     "inputWidgets": {},
     "nuid": "2f47e9a0-8af0-4cb1-a7e3-53390d8a033d",
     "showTitle": false,
     "title": ""
    }
   },
   "outputs": [],
   "source": [
    "#-----------------------------------------\n",
    "# Set the prod folder path\n",
    "#-----------------------------------------\n",
    "prod_folder_path = \"/mnt/prod/\"\n",
    "\n",
    "stocks = [\"aapl\", \"amzn\", \"googl\", \"msft\"]"
   ]
  },
  {
   "cell_type": "code",
   "execution_count": 0,
   "metadata": {
    "application/vnd.databricks.v1+cell": {
     "cellMetadata": {
      "byteLimit": 2048000,
      "rowLimit": 10000
     },
     "inputWidgets": {},
     "nuid": "57ac4cf0-2ddf-4af0-8461-29b14bc6f610",
     "showTitle": false,
     "title": ""
    }
   },
   "outputs": [
    {
     "output_type": "stream",
     "name": "stdout",
     "output_type": "stream",
     "text": [
      "Dropped table: aapl\nTable for aapl is created\nDropped table: amzn\nTable for amzn is created\nDropped table: googl\nTable for googl is created\nDropped table: msft\nTable for msft is created\n"
     ]
    }
   ],
   "source": [
    "#-----------------------------------------\n",
    "# Create the daily table for each stock\n",
    "#-----------------------------------------\n",
    "for stock in stocks:\n",
    "    # Create the path for the stock\n",
    "    path = f'{prod_folder_path}{stock}/year=*/month=*/*'\n",
    "    # Load all the parquet files at once\n",
    "    df = spark.read.parquet(path)\n",
    "    \n",
    "    # Check if the table exists\n",
    "    if spark.catalog.tableExists(stock):\n",
    "        # Drop the existing table\n",
    "        spark.sql(f\"DROP TABLE {stock}\")\n",
    "        print(f'Dropped table: {stock}')\n",
    "    \n",
    "    # Create the table\n",
    "    df.write.format(\"parquet\").saveAsTable(stock)\n",
    "    print(f'Table for {stock} is created')"
   ]
  },
  {
   "cell_type": "code",
   "execution_count": 0,
   "metadata": {
    "application/vnd.databricks.v1+cell": {
     "cellMetadata": {
      "byteLimit": 2048000,
      "implicitDf": true,
      "rowLimit": 10000
     },
     "inputWidgets": {},
     "nuid": "52b3ea96-efa5-4327-8e5f-e64b70bddd7c",
     "showTitle": false,
     "title": ""
    }
   },
   "outputs": [
    {
     "output_type": "display_data",
     "data": {
      "text/html": [
       "<style scoped>\n",
       "  .table-result-container {\n",
       "    max-height: 300px;\n",
       "    overflow: auto;\n",
       "  }\n",
       "  table, th, td {\n",
       "    border: 1px solid black;\n",
       "    border-collapse: collapse;\n",
       "  }\n",
       "  th, td {\n",
       "    padding: 5px;\n",
       "  }\n",
       "  th {\n",
       "    text-align: left;\n",
       "  }\n",
       "</style><div class='table-result-container'><table class='table-result'><thead style='background-color: white'><tr><th>date</th><th>open</th><th>high</th><th>low</th><th>close</th><th>adj_close</th><th>volume</th></tr></thead><tbody><tr><td>2019-10-31</td><td>61.81</td><td>62.2925</td><td>59.315</td><td>62.19</td><td>60.32915</td><td>1.39162E8</td></tr><tr><td>2019-10-30</td><td>61.19</td><td>61.325</td><td>60.3025</td><td>60.815</td><td>58.995293</td><td>1.24522E8</td></tr><tr><td>2019-10-29</td><td>62.2425</td><td>62.4375</td><td>60.6425</td><td>60.8225</td><td>59.002563</td><td>1.428396E8</td></tr><tr><td>2019-10-28</td><td>61.855</td><td>62.3125</td><td>61.68</td><td>62.2625</td><td>60.399483</td><td>9.65728E7</td></tr><tr><td>2019-10-25</td><td>60.79</td><td>61.6825</td><td>60.72</td><td>61.645</td><td>59.800465</td><td>7.34772E7</td></tr><tr><td>2019-10-24</td><td>61.1275</td><td>61.2</td><td>60.4525</td><td>60.895</td><td>59.072906</td><td>6.92752E7</td></tr><tr><td>2019-10-23</td><td>60.525</td><td>60.81</td><td>60.305</td><td>60.795</td><td>58.97589</td><td>7.58288E7</td></tr><tr><td>2019-10-22</td><td>60.29</td><td>60.55</td><td>59.905</td><td>59.99</td><td>58.194984</td><td>8.22936E7</td></tr><tr><td>2019-10-21</td><td>59.38</td><td>60.2475</td><td>59.33</td><td>60.1275</td><td>58.328365</td><td>8.72472E7</td></tr><tr><td>2019-10-18</td><td>58.6475</td><td>59.395</td><td>58.5725</td><td>59.1025</td><td>57.33404</td><td>9.74336E7</td></tr></tbody></table></div>"
      ]
     },
     "metadata": {
      "application/vnd.databricks.v1+output": {
       "addedWidgets": {},
       "aggData": [],
       "aggError": "",
       "aggOverflow": false,
       "aggSchema": [],
       "aggSeriesLimitReached": false,
       "aggType": "",
       "arguments": {},
       "columnCustomDisplayInfos": {},
       "data": [
        [
         "2019-10-31",
         61.81,
         62.2925,
         59.315,
         62.19,
         60.32915,
         1.39162E8
        ],
        [
         "2019-10-30",
         61.19,
         61.325,
         60.3025,
         60.815,
         58.995293,
         1.24522E8
        ],
        [
         "2019-10-29",
         62.2425,
         62.4375,
         60.6425,
         60.8225,
         59.002563,
         1.428396E8
        ],
        [
         "2019-10-28",
         61.855,
         62.3125,
         61.68,
         62.2625,
         60.399483,
         9.65728E7
        ],
        [
         "2019-10-25",
         60.79,
         61.6825,
         60.72,
         61.645,
         59.800465,
         7.34772E7
        ],
        [
         "2019-10-24",
         61.1275,
         61.2,
         60.4525,
         60.895,
         59.072906,
         6.92752E7
        ],
        [
         "2019-10-23",
         60.525,
         60.81,
         60.305,
         60.795,
         58.97589,
         7.58288E7
        ],
        [
         "2019-10-22",
         60.29,
         60.55,
         59.905,
         59.99,
         58.194984,
         8.22936E7
        ],
        [
         "2019-10-21",
         59.38,
         60.2475,
         59.33,
         60.1275,
         58.328365,
         8.72472E7
        ],
        [
         "2019-10-18",
         58.6475,
         59.395,
         58.5725,
         59.1025,
         57.33404,
         9.74336E7
        ]
       ],
       "datasetInfos": [],
       "dbfsResultPath": null,
       "isJsonSchema": true,
       "metadata": {
        "dataframeName": "_sqldf",
        "executionCount": 4
       },
       "overflow": false,
       "plotOptions": {
        "customPlotOptions": {},
        "displayType": "table",
        "pivotAggregation": null,
        "pivotColumns": null,
        "xColumns": null,
        "yColumns": null
       },
       "removedWidgets": [],
       "schema": [
        {
         "metadata": "{}",
         "name": "date",
         "type": "\"date\""
        },
        {
         "metadata": "{}",
         "name": "open",
         "type": "\"float\""
        },
        {
         "metadata": "{}",
         "name": "high",
         "type": "\"float\""
        },
        {
         "metadata": "{}",
         "name": "low",
         "type": "\"float\""
        },
        {
         "metadata": "{}",
         "name": "close",
         "type": "\"float\""
        },
        {
         "metadata": "{}",
         "name": "adj_close",
         "type": "\"float\""
        },
        {
         "metadata": "{}",
         "name": "volume",
         "type": "\"float\""
        }
       ],
       "type": "table"
      }
     },
     "output_type": "display_data"
    }
   ],
   "source": [
    "%sql\n",
    "\n",
    "--- Display the table for apple stock\n",
    "SELECT *\n",
    "FROM aapl\n",
    "LIMIT 10"
   ]
  },
  {
   "cell_type": "code",
   "execution_count": 0,
   "metadata": {
    "application/vnd.databricks.v1+cell": {
     "cellMetadata": {
      "byteLimit": 2048000,
      "implicitDf": true,
      "rowLimit": 10000
     },
     "inputWidgets": {},
     "nuid": "cf510545-08f5-40d8-8a7f-b2a98a32abe8",
     "showTitle": false,
     "title": ""
    }
   },
   "outputs": [
    {
     "output_type": "display_data",
     "data": {
      "text/html": [
       "<style scoped>\n",
       "  .table-result-container {\n",
       "    max-height: 300px;\n",
       "    overflow: auto;\n",
       "  }\n",
       "  table, th, td {\n",
       "    border: 1px solid black;\n",
       "    border-collapse: collapse;\n",
       "  }\n",
       "  th, td {\n",
       "    padding: 5px;\n",
       "  }\n",
       "  th {\n",
       "    text-align: left;\n",
       "  }\n",
       "</style><div class='table-result-container'><table class='table-result'><thead style='background-color: white'><tr><th>year</th><th>mean_stock_price_by_year</th></tr></thead><tbody><tr><td>2004</td><td>0.6344097272034676</td></tr><tr><td>2005</td><td>1.66700113056198</td></tr><tr><td>2006</td><td>2.528951308641776</td></tr><tr><td>2007</td><td>4.5812108640176845</td></tr><tr><td>2008</td><td>5.070679018148792</td></tr><tr><td>2009</td><td>5.24336163108311</td></tr><tr><td>2010</td><td>9.280087898647974</td></tr><tr><td>2011</td><td>13.000154476317148</td></tr><tr><td>2012</td><td>20.573204307556153</td></tr><tr><td>2013</td><td>16.87981717170231</td></tr><tr><td>2014</td><td>23.06616359286838</td></tr><tr><td>2015</td><td>30.009999948834615</td></tr><tr><td>2016</td><td>26.15100197564988</td></tr><tr><td>2017</td><td>37.637768870805836</td></tr><tr><td>2018</td><td>47.263356698936676</td></tr><tr><td>2019</td><td>52.063988049825035</td></tr><tr><td>2020</td><td>95.34707487807444</td></tr><tr><td>2021</td><td>140.98936516898019</td></tr><tr><td>2022</td><td>154.83505969408498</td></tr><tr><td>2023</td><td>172.54900030517578</td></tr><tr><td>2024</td><td>187.8028564453125</td></tr></tbody></table></div>"
      ]
     },
     "metadata": {
      "application/vnd.databricks.v1+output": {
       "addedWidgets": {},
       "aggData": [],
       "aggError": "",
       "aggOverflow": false,
       "aggSchema": [],
       "aggSeriesLimitReached": false,
       "aggType": "",
       "arguments": {},
       "columnCustomDisplayInfos": {},
       "data": [
        [
         2004,
         0.6344097272034676
        ],
        [
         2005,
         1.66700113056198
        ],
        [
         2006,
         2.528951308641776
        ],
        [
         2007,
         4.5812108640176845
        ],
        [
         2008,
         5.070679018148792
        ],
        [
         2009,
         5.24336163108311
        ],
        [
         2010,
         9.280087898647974
        ],
        [
         2011,
         13.000154476317148
        ],
        [
         2012,
         20.573204307556153
        ],
        [
         2013,
         16.87981717170231
        ],
        [
         2014,
         23.06616359286838
        ],
        [
         2015,
         30.009999948834615
        ],
        [
         2016,
         26.15100197564988
        ],
        [
         2017,
         37.637768870805836
        ],
        [
         2018,
         47.263356698936676
        ],
        [
         2019,
         52.063988049825035
        ],
        [
         2020,
         95.34707487807444
        ],
        [
         2021,
         140.98936516898019
        ],
        [
         2022,
         154.83505969408498
        ],
        [
         2023,
         172.54900030517578
        ],
        [
         2024,
         187.8028564453125
        ]
       ],
       "datasetInfos": [],
       "dbfsResultPath": null,
       "isJsonSchema": true,
       "metadata": {
        "dataframeName": "_sqldf",
        "executionCount": 5
       },
       "overflow": false,
       "plotOptions": {
        "customPlotOptions": {},
        "displayType": "table",
        "pivotAggregation": null,
        "pivotColumns": null,
        "xColumns": null,
        "yColumns": null
       },
       "removedWidgets": [],
       "schema": [
        {
         "metadata": "{}",
         "name": "year",
         "type": "\"integer\""
        },
        {
         "metadata": "{}",
         "name": "mean_stock_price_by_year",
         "type": "\"double\""
        }
       ],
       "type": "table"
      }
     },
     "output_type": "display_data"
    }
   ],
   "source": [
    "%sql\n",
    "-- Disply the year average stock price for aapl\n",
    "SELECT year(date) as year, avg(close) as mean_stock_price_by_year\n",
    "FROM aapl\n",
    "GROUP BY year(date)\n",
    "ORDER BY year(date)"
   ]
  },
  {
   "cell_type": "markdown",
   "metadata": {
    "application/vnd.databricks.v1+cell": {
     "cellMetadata": {
      "byteLimit": 2048000,
      "rowLimit": 10000
     },
     "inputWidgets": {},
     "nuid": "3a1f1936-2d9c-4811-8b05-a0562625c677",
     "showTitle": false,
     "title": ""
    }
   },
   "source": [
    "## Creating table for stocks prices"
   ]
  },
  {
   "cell_type": "code",
   "execution_count": 0,
   "metadata": {
    "application/vnd.databricks.v1+cell": {
     "cellMetadata": {
      "byteLimit": 2048000,
      "implicitDf": true,
      "rowLimit": 10000
     },
     "inputWidgets": {},
     "nuid": "a0bc7d43-37e4-43e3-b1e1-987f4098d939",
     "showTitle": false,
     "title": ""
    }
   },
   "outputs": [
    {
     "output_type": "display_data",
     "data": {
      "text/html": [
       "<style scoped>\n",
       "  .table-result-container {\n",
       "    max-height: 300px;\n",
       "    overflow: auto;\n",
       "  }\n",
       "  table, th, td {\n",
       "    border: 1px solid black;\n",
       "    border-collapse: collapse;\n",
       "  }\n",
       "  th, td {\n",
       "    padding: 5px;\n",
       "  }\n",
       "  th {\n",
       "    text-align: left;\n",
       "  }\n",
       "</style><div class='table-result-container'><table class='table-result'><thead style='background-color: white'><tr><th>num_affected_rows</th><th>num_inserted_rows</th></tr></thead><tbody></tbody></table></div>"
      ]
     },
     "metadata": {
      "application/vnd.databricks.v1+output": {
       "addedWidgets": {},
       "aggData": [],
       "aggError": "",
       "aggOverflow": false,
       "aggSchema": [],
       "aggSeriesLimitReached": false,
       "aggType": "",
       "arguments": {},
       "columnCustomDisplayInfos": {},
       "data": [],
       "datasetInfos": [],
       "dbfsResultPath": null,
       "isJsonSchema": true,
       "metadata": {
        "dataframeName": "_sqldf",
        "executionCount": 6
       },
       "overflow": false,
       "plotOptions": {
        "customPlotOptions": {},
        "displayType": "table",
        "pivotAggregation": null,
        "pivotColumns": null,
        "xColumns": null,
        "yColumns": null
       },
       "removedWidgets": [],
       "schema": [
        {
         "metadata": "{}",
         "name": "num_affected_rows",
         "type": "\"long\""
        },
        {
         "metadata": "{}",
         "name": "num_inserted_rows",
         "type": "\"long\""
        }
       ],
       "type": "table"
      }
     },
     "output_type": "display_data"
    }
   ],
   "source": [
    "%sql\n",
    "DROP TABLE IF EXISTS stocks_prices;\n",
    "\n",
    "CREATE TABLE stocks_prices AS\n",
    "SELECT aapl.date, aapl.adj_close as aapl, amzn.adj_close as amzn, msft.adj_close as msft, googl.adj_close as googl\n",
    "FROM aapl\n",
    "JOIN amzn ON aapl.date = amzn.date\n",
    "JOIN msft ON aapl.date = msft.date\n",
    "JOIN googl ON aapl.date = googl.date\n",
    "ORDER BY date;"
   ]
  },
  {
   "cell_type": "code",
   "execution_count": 0,
   "metadata": {
    "application/vnd.databricks.v1+cell": {
     "cellMetadata": {
      "byteLimit": 2048000,
      "implicitDf": true,
      "rowLimit": 10000
     },
     "inputWidgets": {},
     "nuid": "e3ae9ce4-45d1-4926-9ed9-509c17466f0a",
     "showTitle": false,
     "title": ""
    }
   },
   "outputs": [
    {
     "output_type": "display_data",
     "data": {
      "text/html": [
       "<style scoped>\n",
       "  .table-result-container {\n",
       "    max-height: 300px;\n",
       "    overflow: auto;\n",
       "  }\n",
       "  table, th, td {\n",
       "    border: 1px solid black;\n",
       "    border-collapse: collapse;\n",
       "  }\n",
       "  th, td {\n",
       "    padding: 5px;\n",
       "  }\n",
       "  th {\n",
       "    text-align: left;\n",
       "  }\n",
       "</style><div class='table-result-container'><table class='table-result'><thead style='background-color: white'><tr><th>date</th><th>aapl</th><th>amzn</th><th>msft</th><th>googl</th></tr></thead><tbody><tr><td>2024-02-09</td><td>188.85</td><td>174.45</td><td>420.55</td><td>149.0</td></tr><tr><td>2024-02-08</td><td>188.08002</td><td>169.84</td><td>414.11</td><td>145.91</td></tr><tr><td>2024-02-07</td><td>189.16862</td><td>170.53</td><td>414.05</td><td>145.54</td></tr><tr><td>2024-02-06</td><td>189.05876</td><td>169.15</td><td>405.49</td><td>144.1</td></tr><tr><td>2024-02-05</td><td>187.44081</td><td>170.31</td><td>405.65</td><td>143.68</td></tr><tr><td>2024-02-02</td><td>185.61316</td><td>171.81</td><td>411.22</td><td>142.38</td></tr><tr><td>2024-02-01</td><td>186.62187</td><td>159.28</td><td>403.78</td><td>141.16</td></tr><tr><td>2024-01-31</td><td>184.165</td><td>155.2</td><td>397.58</td><td>140.1</td></tr><tr><td>2024-01-30</td><td>187.80035</td><td>159.0</td><td>408.59</td><td>151.46</td></tr><tr><td>2024-01-29</td><td>191.48566</td><td>161.26</td><td>409.72</td><td>153.51</td></tr></tbody></table></div>"
      ]
     },
     "metadata": {
      "application/vnd.databricks.v1+output": {
       "addedWidgets": {},
       "aggData": [],
       "aggError": "",
       "aggOverflow": false,
       "aggSchema": [],
       "aggSeriesLimitReached": false,
       "aggType": "",
       "arguments": {},
       "columnCustomDisplayInfos": {},
       "data": [
        [
         "2024-02-09",
         188.85,
         174.45,
         420.55,
         149.0
        ],
        [
         "2024-02-08",
         188.08002,
         169.84,
         414.11,
         145.91
        ],
        [
         "2024-02-07",
         189.16862,
         170.53,
         414.05,
         145.54
        ],
        [
         "2024-02-06",
         189.05876,
         169.15,
         405.49,
         144.1
        ],
        [
         "2024-02-05",
         187.44081,
         170.31,
         405.65,
         143.68
        ],
        [
         "2024-02-02",
         185.61316,
         171.81,
         411.22,
         142.38
        ],
        [
         "2024-02-01",
         186.62187,
         159.28,
         403.78,
         141.16
        ],
        [
         "2024-01-31",
         184.165,
         155.2,
         397.58,
         140.1
        ],
        [
         "2024-01-30",
         187.80035,
         159.0,
         408.59,
         151.46
        ],
        [
         "2024-01-29",
         191.48566,
         161.26,
         409.72,
         153.51
        ]
       ],
       "datasetInfos": [],
       "dbfsResultPath": null,
       "isJsonSchema": true,
       "metadata": {
        "dataframeName": "_sqldf",
        "executionCount": 7
       },
       "overflow": false,
       "plotOptions": {
        "customPlotOptions": {},
        "displayType": "table",
        "pivotAggregation": null,
        "pivotColumns": null,
        "xColumns": null,
        "yColumns": null
       },
       "removedWidgets": [],
       "schema": [
        {
         "metadata": "{}",
         "name": "date",
         "type": "\"date\""
        },
        {
         "metadata": "{}",
         "name": "aapl",
         "type": "\"float\""
        },
        {
         "metadata": "{}",
         "name": "amzn",
         "type": "\"float\""
        },
        {
         "metadata": "{}",
         "name": "msft",
         "type": "\"float\""
        },
        {
         "metadata": "{}",
         "name": "googl",
         "type": "\"float\""
        }
       ],
       "type": "table"
      }
     },
     "output_type": "display_data"
    }
   ],
   "source": [
    "%sql\n",
    "-- Disply the stock prices\n",
    "SELECT *\n",
    "FROM stocks_prices\n",
    "ORDER BY date DESC\n",
    "LIMIT 10"
   ]
  },
  {
   "cell_type": "markdown",
   "metadata": {
    "application/vnd.databricks.v1+cell": {
     "cellMetadata": {
      "byteLimit": 2048000,
      "rowLimit": 10000
     },
     "inputWidgets": {},
     "nuid": "68a3e8a6-8de3-488b-b95f-570a88f24dca",
     "showTitle": false,
     "title": ""
    }
   },
   "source": [
    "## Creating table containg the log return for each stock prices"
   ]
  },
  {
   "cell_type": "markdown",
   "metadata": {
    "application/vnd.databricks.v1+cell": {
     "cellMetadata": {
      "byteLimit": 2048000,
      "rowLimit": 10000
     },
     "inputWidgets": {},
     "nuid": "c9486406-37f0-4ebc-a163-95af207c0da6",
     "showTitle": false,
     "title": ""
    }
   },
   "source": [
    "The log return is given by :\n",
    "\n",
    "$$\n",
    "r_t = log(\\frac{P_t}{P_{t-1}})\n",
    "$$\n",
    "\n",
    "Where $P_t$ is the stock price at time t"
   ]
  },
  {
   "cell_type": "code",
   "execution_count": 0,
   "metadata": {
    "application/vnd.databricks.v1+cell": {
     "cellMetadata": {
      "byteLimit": 2048000,
      "rowLimit": 10000
     },
     "inputWidgets": {},
     "nuid": "9e34f57c-f4b0-4f36-b653-9664f29a6b15",
     "showTitle": false,
     "title": ""
    }
   },
   "outputs": [
    {
     "output_type": "stream",
     "name": "stdout",
     "output_type": "stream",
     "text": [
      "Dropped table: stocks_returns\n"
     ]
    }
   ],
   "source": [
    "#-----------------------------------------\n",
    "# Loading the stocks_prices table and calculate the log return for each stock\n",
    "#-----------------------------------------\n",
    "df = spark.sql(\"SELECT * FROM stocks_prices\")\n",
    "\n",
    "# Calculate the log return for each stock\n",
    "for stock in stocks:\n",
    "    # Order by date\n",
    "    df = df.orderBy(\"date\")\n",
    "    # Create a window specification\n",
    "    windowSpec = Window.orderBy(\"date\")\n",
    "    # Calculate log return\n",
    "    col_expr = F.log(df[stock]) - F.lag(F.log(df[stock])).over(windowSpec)\n",
    "    # Round the return\n",
    "    col_expr_rounded = F.round(col_expr, 6)\n",
    "    # Assign the new column to the dataframe\n",
    "    df = df.withColumn(stock, col_expr_rounded)\n",
    "\n",
    "# Delete The Null row\n",
    "df = df.na.drop()\n",
    "\n",
    "# Check if the table exists\n",
    "if spark.catalog.tableExists(\"stocks_returns\"):\n",
    "    # Drop the existing table\n",
    "    spark.sql(f\"DROP TABLE stocks_returns\")\n",
    "    print(f'Dropped table: stocks_returns')\n",
    "\n",
    "\n",
    "# Create the table\n",
    "df.write.format(\"parquet\").saveAsTable(\"stocks_returns\")"
   ]
  },
  {
   "cell_type": "code",
   "execution_count": 0,
   "metadata": {
    "application/vnd.databricks.v1+cell": {
     "cellMetadata": {
      "byteLimit": 2048000,
      "implicitDf": true,
      "rowLimit": 10000
     },
     "inputWidgets": {},
     "nuid": "278d974c-0a51-40e0-b4cc-a7ae673497b8",
     "showTitle": false,
     "title": ""
    }
   },
   "outputs": [
    {
     "output_type": "display_data",
     "data": {
      "text/html": [
       "<style scoped>\n",
       "  .table-result-container {\n",
       "    max-height: 300px;\n",
       "    overflow: auto;\n",
       "  }\n",
       "  table, th, td {\n",
       "    border: 1px solid black;\n",
       "    border-collapse: collapse;\n",
       "  }\n",
       "  th, td {\n",
       "    padding: 5px;\n",
       "  }\n",
       "  th {\n",
       "    text-align: left;\n",
       "  }\n",
       "</style><div class='table-result-container'><table class='table-result'><thead style='background-color: white'><tr><th>date</th><th>aapl</th><th>amzn</th><th>msft</th><th>googl</th></tr></thead><tbody><tr><td>2024-02-09</td><td>0.004086</td><td>0.026782</td><td>0.015432</td><td>0.020957</td></tr><tr><td>2024-02-08</td><td>-0.005771</td><td>-0.004055</td><td>1.45E-4</td><td>0.002539</td></tr><tr><td>2024-02-07</td><td>5.81E-4</td><td>0.008125</td><td>0.020891</td><td>0.009943</td></tr><tr><td>2024-02-06</td><td>0.008595</td><td>-0.006835</td><td>-3.95E-4</td><td>0.002919</td></tr><tr><td>2024-02-05</td><td>0.009799</td><td>-0.008769</td><td>-0.013638</td><td>0.009089</td></tr><tr><td>2024-02-02</td><td>-0.00542</td><td>0.075726</td><td>0.018258</td><td>0.008605</td></tr><tr><td>2024-02-01</td><td>0.013252</td><td>0.025949</td><td>0.015474</td><td>0.007537</td></tr><tr><td>2024-01-31</td><td>-0.019547</td><td>-0.02419</td><td>-0.027316</td><td>-0.077965</td></tr><tr><td>2024-01-30</td><td>-0.019433</td><td>-0.014113</td><td>-0.002762</td><td>-0.013444</td></tr><tr><td>2024-01-29</td><td>-0.003592</td><td>0.013359</td><td>0.014232</td><td>0.008636</td></tr></tbody></table></div>"
      ]
     },
     "metadata": {
      "application/vnd.databricks.v1+output": {
       "addedWidgets": {},
       "aggData": [],
       "aggError": "",
       "aggOverflow": false,
       "aggSchema": [],
       "aggSeriesLimitReached": false,
       "aggType": "",
       "arguments": {},
       "columnCustomDisplayInfos": {},
       "data": [
        [
         "2024-02-09",
         0.004086,
         0.026782,
         0.015432,
         0.020957
        ],
        [
         "2024-02-08",
         -0.005771,
         -0.004055,
         1.45E-4,
         0.002539
        ],
        [
         "2024-02-07",
         5.81E-4,
         0.008125,
         0.020891,
         0.009943
        ],
        [
         "2024-02-06",
         0.008595,
         -0.006835,
         -3.95E-4,
         0.002919
        ],
        [
         "2024-02-05",
         0.009799,
         -0.008769,
         -0.013638,
         0.009089
        ],
        [
         "2024-02-02",
         -0.00542,
         0.075726,
         0.018258,
         0.008605
        ],
        [
         "2024-02-01",
         0.013252,
         0.025949,
         0.015474,
         0.007537
        ],
        [
         "2024-01-31",
         -0.019547,
         -0.02419,
         -0.027316,
         -0.077965
        ],
        [
         "2024-01-30",
         -0.019433,
         -0.014113,
         -0.002762,
         -0.013444
        ],
        [
         "2024-01-29",
         -0.003592,
         0.013359,
         0.014232,
         0.008636
        ]
       ],
       "datasetInfos": [],
       "dbfsResultPath": null,
       "isJsonSchema": true,
       "metadata": {
        "dataframeName": "_sqldf",
        "executionCount": 9
       },
       "overflow": false,
       "plotOptions": {
        "customPlotOptions": {},
        "displayType": "table",
        "pivotAggregation": null,
        "pivotColumns": null,
        "xColumns": null,
        "yColumns": null
       },
       "removedWidgets": [],
       "schema": [
        {
         "metadata": "{}",
         "name": "date",
         "type": "\"date\""
        },
        {
         "metadata": "{}",
         "name": "aapl",
         "type": "\"double\""
        },
        {
         "metadata": "{}",
         "name": "amzn",
         "type": "\"double\""
        },
        {
         "metadata": "{}",
         "name": "msft",
         "type": "\"double\""
        },
        {
         "metadata": "{}",
         "name": "googl",
         "type": "\"double\""
        }
       ],
       "type": "table"
      }
     },
     "output_type": "display_data"
    }
   ],
   "source": [
    "%sql\n",
    "-- Disply the stocks_returns\n",
    "SELECT *\n",
    "FROM stocks_returns\n",
    "ORDER BY date DESC\n",
    "LIMIT 10\n"
   ]
  },
  {
   "cell_type": "markdown",
   "metadata": {
    "application/vnd.databricks.v1+cell": {
     "cellMetadata": {
      "byteLimit": 2048000,
      "rowLimit": 10000
     },
     "inputWidgets": {},
     "nuid": "f03d09e5-5e7c-43f2-9b96-f8edff6e8b72",
     "showTitle": false,
     "title": ""
    }
   },
   "source": [
    "## Creating table containg the GARCH(1,1) volatility for each stock"
   ]
  },
  {
   "cell_type": "markdown",
   "metadata": {
    "application/vnd.databricks.v1+cell": {
     "cellMetadata": {
      "byteLimit": 2048000,
      "rowLimit": 10000
     },
     "inputWidgets": {},
     "nuid": "4ab69574-4b5d-4db0-9f9e-7393214d5384",
     "showTitle": false,
     "title": ""
    }
   },
   "source": [
    "The volatility is given by :\n",
    "\n",
    "$$\n",
    "\\sigma_{t}^2= \\omega+ \\alpha y^2_{t-1} + \\beta \\sigma^2_{t-1} \\ , \\ \\omega \\ge 0 \\ \\ \\ \\  \\alpha, \\beta>0 \\ and\n",
    " \\ \\alpha+ \\beta<1\n",
    "$$"
   ]
  },
  {
   "cell_type": "markdown",
   "metadata": {
    "application/vnd.databricks.v1+cell": {
     "cellMetadata": {
      "byteLimit": 2048000,
      "rowLimit": 10000
     },
     "inputWidgets": {},
     "nuid": "06f49c4d-c758-4eb8-a3f7-c8edefa37fd3",
     "showTitle": false,
     "title": ""
    }
   },
   "source": [
    "## Load the data"
   ]
  },
  {
   "cell_type": "code",
   "execution_count": 0,
   "metadata": {
    "application/vnd.databricks.v1+cell": {
     "cellMetadata": {
      "byteLimit": 2048000,
      "rowLimit": 10000
     },
     "inputWidgets": {},
     "nuid": "3f2cad9a-95fd-4332-817d-a42f209a22dc",
     "showTitle": false,
     "title": ""
    }
   },
   "outputs": [],
   "source": [
    "returns = spark.sql(\"SELECT * FROM stocks_returns\").toPandas()"
   ]
  },
  {
   "cell_type": "code",
   "execution_count": 0,
   "metadata": {
    "application/vnd.databricks.v1+cell": {
     "cellMetadata": {
      "byteLimit": 2048000,
      "rowLimit": 10000
     },
     "inputWidgets": {},
     "nuid": "72f07df6-0312-46e5-bc35-e4ad0e4249bc",
     "showTitle": false,
     "title": ""
    }
   },
   "outputs": [],
   "source": [
    "garch_vol = {}\n",
    "garch_vol[\"date\"] = returns[\"date\"]\n",
    "for stock in stocks:\n",
    "    garch_vol[stock] = forecast_vol(returns[stock])[:-1]"
   ]
  },
  {
   "cell_type": "code",
   "execution_count": 0,
   "metadata": {
    "application/vnd.databricks.v1+cell": {
     "cellMetadata": {
      "byteLimit": 2048000,
      "rowLimit": 10000
     },
     "inputWidgets": {},
     "nuid": "53ffe2a6-d61d-4295-a3f1-fd3b7d60bb8b",
     "showTitle": false,
     "title": ""
    }
   },
   "outputs": [
    {
     "output_type": "execute_result",
     "data": {
      "text/plain": [
       "<AxesSubplot:xlabel='date', ylabel='aapl'>"
      ]
     },
     "execution_count": 60,
     "metadata": {},
     "output_type": "execute_result"
    },
    {
     "output_type": "display_data",
     "data": {
      "image/png": "[encoded data removed]",
      "text/plain": [
       "<Figure size 800x550 with 1 Axes>"
      ]
     },
     "metadata": {
      "image/png": {
       "height": 492,
       "width": 717
      }
     },
     "output_type": "display_data"
    }
   ],
   "source": [
    "sns.lineplot(y=returns[\"aapl\"][0:1000], x=garch_vol[\"date\"][0:1000], label=\"returns\")\n",
    "sns.lineplot(y=garch_vol[\"aapl\"][0:1000]*100, x=garch_vol[\"date\"][0:1000], label=\"volatility\")"
   ]
  },
  {
   "cell_type": "code",
   "execution_count": 0,
   "metadata": {
    "application/vnd.databricks.v1+cell": {
     "cellMetadata": {
      "byteLimit": 2048000,
      "rowLimit": 10000
     },
     "inputWidgets": {},
     "nuid": "c4d5275a-6ea9-44e6-b772-b48b19d9b23e",
     "showTitle": false,
     "title": ""
    }
   },
   "outputs": [
    {
     "output_type": "display_data",
     "data": {
      "text/plain": [
       "\u001B[0;31m---------------------------------------------------------------------------\u001B[0m\n",
       "\u001B[0;31mPySparkTypeError\u001B[0m                          Traceback (most recent call last)\n",
       "File \u001B[0;32m<command-1836405509211055>, line 10\u001B[0m\n",
       "\u001B[1;32m      1\u001B[0m \u001B[38;5;66;03m# Define the schema\u001B[39;00m\n",
       "\u001B[1;32m      2\u001B[0m schema \u001B[38;5;241m=\u001B[39m StructType([\n",
       "\u001B[1;32m      3\u001B[0m     StructField(\u001B[38;5;124m\"\u001B[39m\u001B[38;5;124mdate\u001B[39m\u001B[38;5;124m\"\u001B[39m, DateType(), \u001B[38;5;28;01mTrue\u001B[39;00m),\n",
       "\u001B[1;32m      4\u001B[0m     StructField(\u001B[38;5;124m\"\u001B[39m\u001B[38;5;124maapl\u001B[39m\u001B[38;5;124m\"\u001B[39m, FloatType(), \u001B[38;5;28;01mTrue\u001B[39;00m),\n",
       "\u001B[0;32m   (...)\u001B[0m\n",
       "\u001B[1;32m      7\u001B[0m     StructField(\u001B[38;5;124m\"\u001B[39m\u001B[38;5;124mgoogl\u001B[39m\u001B[38;5;124m\"\u001B[39m, FloatType(), \u001B[38;5;28;01mTrue\u001B[39;00m)\n",
       "\u001B[1;32m      8\u001B[0m ])\n",
       "\u001B[0;32m---> 10\u001B[0m garch_vol \u001B[38;5;241m=\u001B[39m spark\u001B[38;5;241m.\u001B[39mcreateDataFrame(garch_vol, schema\u001B[38;5;241m=\u001B[39mschema)\n",
       "\n",
       "File \u001B[0;32m/databricks/spark/python/pyspark/instrumentation_utils.py:48\u001B[0m, in \u001B[0;36m_wrap_function.<locals>.wrapper\u001B[0;34m(*args, **kwargs)\u001B[0m\n",
       "\u001B[1;32m     46\u001B[0m start \u001B[38;5;241m=\u001B[39m time\u001B[38;5;241m.\u001B[39mperf_counter()\n",
       "\u001B[1;32m     47\u001B[0m \u001B[38;5;28;01mtry\u001B[39;00m:\n",
       "\u001B[0;32m---> 48\u001B[0m     res \u001B[38;5;241m=\u001B[39m \u001B[43mfunc\u001B[49m\u001B[43m(\u001B[49m\u001B[38;5;241;43m*\u001B[39;49m\u001B[43margs\u001B[49m\u001B[43m,\u001B[49m\u001B[43m \u001B[49m\u001B[38;5;241;43m*\u001B[39;49m\u001B[38;5;241;43m*\u001B[39;49m\u001B[43mkwargs\u001B[49m\u001B[43m)\u001B[49m\n",
       "\u001B[1;32m     49\u001B[0m     logger\u001B[38;5;241m.\u001B[39mlog_success(\n",
       "\u001B[1;32m     50\u001B[0m         module_name, class_name, function_name, time\u001B[38;5;241m.\u001B[39mperf_counter() \u001B[38;5;241m-\u001B[39m start, signature\n",
       "\u001B[1;32m     51\u001B[0m     )\n",
       "\u001B[1;32m     52\u001B[0m     \u001B[38;5;28;01mreturn\u001B[39;00m res\n",
       "\n",
       "File \u001B[0;32m/databricks/spark/python/pyspark/sql/session.py:1407\u001B[0m, in \u001B[0;36mSparkSession.createDataFrame\u001B[0;34m(self, data, schema, samplingRatio, verifySchema)\u001B[0m\n",
       "\u001B[1;32m   1402\u001B[0m \u001B[38;5;28;01mif\u001B[39;00m has_pandas \u001B[38;5;129;01mand\u001B[39;00m \u001B[38;5;28misinstance\u001B[39m(data, pd\u001B[38;5;241m.\u001B[39mDataFrame):\n",
       "\u001B[1;32m   1403\u001B[0m     \u001B[38;5;66;03m# Create a DataFrame from pandas DataFrame.\u001B[39;00m\n",
       "\u001B[1;32m   1404\u001B[0m     \u001B[38;5;28;01mreturn\u001B[39;00m \u001B[38;5;28msuper\u001B[39m(SparkSession, \u001B[38;5;28mself\u001B[39m)\u001B[38;5;241m.\u001B[39mcreateDataFrame(  \u001B[38;5;66;03m# type: ignore[call-overload]\u001B[39;00m\n",
       "\u001B[1;32m   1405\u001B[0m         data, schema, samplingRatio, verifySchema\n",
       "\u001B[1;32m   1406\u001B[0m     )\n",
       "\u001B[0;32m-> 1407\u001B[0m \u001B[38;5;28;01mreturn\u001B[39;00m \u001B[38;5;28;43mself\u001B[39;49m\u001B[38;5;241;43m.\u001B[39;49m\u001B[43m_create_dataframe\u001B[49m\u001B[43m(\u001B[49m\n",
       "\u001B[1;32m   1408\u001B[0m \u001B[43m    \u001B[49m\u001B[43mdata\u001B[49m\u001B[43m,\u001B[49m\u001B[43m \u001B[49m\u001B[43mschema\u001B[49m\u001B[43m,\u001B[49m\u001B[43m \u001B[49m\u001B[43msamplingRatio\u001B[49m\u001B[43m,\u001B[49m\u001B[43m \u001B[49m\u001B[43mverifySchema\u001B[49m\u001B[43m  \u001B[49m\u001B[38;5;66;43;03m# type: ignore[arg-type]\u001B[39;49;00m\n",
       "\u001B[1;32m   1409\u001B[0m \u001B[43m\u001B[49m\u001B[43m)\u001B[49m\n",
       "\n",
       "File \u001B[0;32m/databricks/spark/python/pyspark/sql/session.py:1457\u001B[0m, in \u001B[0;36mSparkSession._create_dataframe\u001B[0;34m(self, data, schema, samplingRatio, verifySchema)\u001B[0m\n",
       "\u001B[1;32m   1455\u001B[0m     rdd, struct \u001B[38;5;241m=\u001B[39m \u001B[38;5;28mself\u001B[39m\u001B[38;5;241m.\u001B[39m_createFromRDD(data\u001B[38;5;241m.\u001B[39mmap(prepare), schema, samplingRatio)\n",
       "\u001B[1;32m   1456\u001B[0m \u001B[38;5;28;01melse\u001B[39;00m:\n",
       "\u001B[0;32m-> 1457\u001B[0m     rdd, struct \u001B[38;5;241m=\u001B[39m \u001B[38;5;28;43mself\u001B[39;49m\u001B[38;5;241;43m.\u001B[39;49m\u001B[43m_createFromLocal\u001B[49m\u001B[43m(\u001B[49m\u001B[38;5;28;43mmap\u001B[39;49m\u001B[43m(\u001B[49m\u001B[43mprepare\u001B[49m\u001B[43m,\u001B[49m\u001B[43m \u001B[49m\u001B[43mdata\u001B[49m\u001B[43m)\u001B[49m\u001B[43m,\u001B[49m\u001B[43m \u001B[49m\u001B[43mschema\u001B[49m\u001B[43m)\u001B[49m\n",
       "\u001B[1;32m   1458\u001B[0m jrdd \u001B[38;5;241m=\u001B[39m \u001B[38;5;28mself\u001B[39m\u001B[38;5;241m.\u001B[39m_jvm\u001B[38;5;241m.\u001B[39mSerDeUtil\u001B[38;5;241m.\u001B[39mtoJavaArray(rdd\u001B[38;5;241m.\u001B[39m_to_java_object_rdd())\n",
       "\u001B[1;32m   1459\u001B[0m jdf \u001B[38;5;241m=\u001B[39m \u001B[38;5;28mself\u001B[39m\u001B[38;5;241m.\u001B[39m_jsparkSession\u001B[38;5;241m.\u001B[39mapplySchemaToPythonRDD(jrdd\u001B[38;5;241m.\u001B[39mrdd(), struct\u001B[38;5;241m.\u001B[39mjson())\n",
       "\n",
       "File \u001B[0;32m/databricks/spark/python/pyspark/sql/session.py:1059\u001B[0m, in \u001B[0;36mSparkSession._createFromLocal\u001B[0;34m(self, data, schema)\u001B[0m\n",
       "\u001B[1;32m   1051\u001B[0m \u001B[38;5;28;01mdef\u001B[39;00m \u001B[38;5;21m_createFromLocal\u001B[39m(\n",
       "\u001B[1;32m   1052\u001B[0m     \u001B[38;5;28mself\u001B[39m, data: Iterable[Any], schema: Optional[Union[DataType, List[\u001B[38;5;28mstr\u001B[39m]]]\n",
       "\u001B[1;32m   1053\u001B[0m ) \u001B[38;5;241m-\u001B[39m\u001B[38;5;241m>\u001B[39m Tuple[\u001B[38;5;124m\"\u001B[39m\u001B[38;5;124mRDD[Tuple]\u001B[39m\u001B[38;5;124m\"\u001B[39m, StructType]:\n",
       "\u001B[1;32m   1054\u001B[0m     \u001B[38;5;124;03m\"\"\"\u001B[39;00m\n",
       "\u001B[1;32m   1055\u001B[0m \u001B[38;5;124;03m    Create an RDD for DataFrame from a list or pandas.DataFrame, returns the RDD and schema.\u001B[39;00m\n",
       "\u001B[1;32m   1056\u001B[0m \u001B[38;5;124;03m    This would be broken with table acl enabled as user process does not have permission to\u001B[39;00m\n",
       "\u001B[1;32m   1057\u001B[0m \u001B[38;5;124;03m    write temp files.\u001B[39;00m\n",
       "\u001B[1;32m   1058\u001B[0m \u001B[38;5;124;03m    \"\"\"\u001B[39;00m\n",
       "\u001B[0;32m-> 1059\u001B[0m     internal_data, struct \u001B[38;5;241m=\u001B[39m \u001B[38;5;28;43mself\u001B[39;49m\u001B[38;5;241;43m.\u001B[39;49m\u001B[43m_wrap_data_schema\u001B[49m\u001B[43m(\u001B[49m\u001B[43mdata\u001B[49m\u001B[43m,\u001B[49m\u001B[43m \u001B[49m\u001B[43mschema\u001B[49m\u001B[43m)\u001B[49m\n",
       "\u001B[1;32m   1060\u001B[0m     \u001B[38;5;28;01mreturn\u001B[39;00m \u001B[38;5;28mself\u001B[39m\u001B[38;5;241m.\u001B[39m_sc\u001B[38;5;241m.\u001B[39mparallelize(internal_data), struct\n",
       "\n",
       "File \u001B[0;32m/databricks/spark/python/pyspark/sql/session.py:1023\u001B[0m, in \u001B[0;36mSparkSession._wrap_data_schema\u001B[0;34m(self, data, schema)\u001B[0m\n",
       "\u001B[1;32m   1018\u001B[0m \u001B[38;5;28;01mdef\u001B[39;00m \u001B[38;5;21m_wrap_data_schema\u001B[39m(\n",
       "\u001B[1;32m   1019\u001B[0m     \u001B[38;5;28mself\u001B[39m, data: Iterable[Any], schema: Optional[Union[DataType, List[\u001B[38;5;28mstr\u001B[39m]]]\n",
       "\u001B[1;32m   1020\u001B[0m ) \u001B[38;5;241m-\u001B[39m\u001B[38;5;241m>\u001B[39m Tuple[Iterable[Tuple], StructType]:\n",
       "\u001B[1;32m   1021\u001B[0m     \u001B[38;5;66;03m# make sure data could consumed multiple times\u001B[39;00m\n",
       "\u001B[1;32m   1022\u001B[0m     \u001B[38;5;28;01mif\u001B[39;00m \u001B[38;5;129;01mnot\u001B[39;00m \u001B[38;5;28misinstance\u001B[39m(data, \u001B[38;5;28mlist\u001B[39m):\n",
       "\u001B[0;32m-> 1023\u001B[0m         data \u001B[38;5;241m=\u001B[39m \u001B[38;5;28;43mlist\u001B[39;49m\u001B[43m(\u001B[49m\u001B[43mdata\u001B[49m\u001B[43m)\u001B[49m\n",
       "\u001B[1;32m   1025\u001B[0m     \u001B[38;5;28;01mif\u001B[39;00m schema \u001B[38;5;129;01mis\u001B[39;00m \u001B[38;5;28;01mNone\u001B[39;00m \u001B[38;5;129;01mor\u001B[39;00m \u001B[38;5;28misinstance\u001B[39m(schema, (\u001B[38;5;28mlist\u001B[39m, \u001B[38;5;28mtuple\u001B[39m)):\n",
       "\u001B[1;32m   1026\u001B[0m         struct \u001B[38;5;241m=\u001B[39m \u001B[38;5;28mself\u001B[39m\u001B[38;5;241m.\u001B[39m_inferSchemaFromList(data, names\u001B[38;5;241m=\u001B[39mschema)\n",
       "\n",
       "File \u001B[0;32m/databricks/spark/python/pyspark/sql/session.py:1423\u001B[0m, in \u001B[0;36mSparkSession._create_dataframe.<locals>.prepare\u001B[0;34m(obj)\u001B[0m\n",
       "\u001B[1;32m   1421\u001B[0m \u001B[38;5;129m@no_type_check\u001B[39m\n",
       "\u001B[1;32m   1422\u001B[0m \u001B[38;5;28;01mdef\u001B[39;00m \u001B[38;5;21mprepare\u001B[39m(obj):\n",
       "\u001B[0;32m-> 1423\u001B[0m     \u001B[43mverify_func\u001B[49m\u001B[43m(\u001B[49m\u001B[43mobj\u001B[49m\u001B[43m)\u001B[49m\n",
       "\u001B[1;32m   1424\u001B[0m     \u001B[38;5;28;01mreturn\u001B[39;00m obj\n",
       "\n",
       "File \u001B[0;32m/databricks/spark/python/pyspark/sql/types.py:2187\u001B[0m, in \u001B[0;36m_make_type_verifier.<locals>.verify\u001B[0;34m(obj)\u001B[0m\n",
       "\u001B[1;32m   2185\u001B[0m \u001B[38;5;28;01mdef\u001B[39;00m \u001B[38;5;21mverify\u001B[39m(obj: Any) \u001B[38;5;241m-\u001B[39m\u001B[38;5;241m>\u001B[39m \u001B[38;5;28;01mNone\u001B[39;00m:\n",
       "\u001B[1;32m   2186\u001B[0m     \u001B[38;5;28;01mif\u001B[39;00m \u001B[38;5;129;01mnot\u001B[39;00m verify_nullability(obj):\n",
       "\u001B[0;32m-> 2187\u001B[0m         \u001B[43mverify_value\u001B[49m\u001B[43m(\u001B[49m\u001B[43mobj\u001B[49m\u001B[43m)\u001B[49m\n",
       "\n",
       "File \u001B[0;32m/databricks/spark/python/pyspark/sql/types.py:2166\u001B[0m, in \u001B[0;36m_make_type_verifier.<locals>.verify_struct\u001B[0;34m(obj)\u001B[0m\n",
       "\u001B[1;32m   2164\u001B[0m         verifier(d\u001B[38;5;241m.\u001B[39mget(f))\n",
       "\u001B[1;32m   2165\u001B[0m \u001B[38;5;28;01melse\u001B[39;00m:\n",
       "\u001B[0;32m-> 2166\u001B[0m     \u001B[38;5;28;01mraise\u001B[39;00m PySparkTypeError(\n",
       "\u001B[1;32m   2167\u001B[0m         error_class\u001B[38;5;241m=\u001B[39m\u001B[38;5;124m\"\u001B[39m\u001B[38;5;124mCANNOT_ACCEPT_OBJECT_IN_TYPE\u001B[39m\u001B[38;5;124m\"\u001B[39m,\n",
       "\u001B[1;32m   2168\u001B[0m         message_parameters\u001B[38;5;241m=\u001B[39m{\n",
       "\u001B[1;32m   2169\u001B[0m             \u001B[38;5;124m\"\u001B[39m\u001B[38;5;124mdata_type\u001B[39m\u001B[38;5;124m\"\u001B[39m: \u001B[38;5;124m\"\u001B[39m\u001B[38;5;124mStructType\u001B[39m\u001B[38;5;124m\"\u001B[39m,\n",
       "\u001B[1;32m   2170\u001B[0m             \u001B[38;5;124m\"\u001B[39m\u001B[38;5;124mobj_name\u001B[39m\u001B[38;5;124m\"\u001B[39m: \u001B[38;5;28mstr\u001B[39m(obj),\n",
       "\u001B[1;32m   2171\u001B[0m             \u001B[38;5;124m\"\u001B[39m\u001B[38;5;124mobj_type\u001B[39m\u001B[38;5;124m\"\u001B[39m: \u001B[38;5;28mtype\u001B[39m(obj)\u001B[38;5;241m.\u001B[39m\u001B[38;5;18m__name__\u001B[39m,\n",
       "\u001B[1;32m   2172\u001B[0m         },\n",
       "\u001B[1;32m   2173\u001B[0m     )\n",
       "\n",
       "\u001B[0;31mPySparkTypeError\u001B[0m: [CANNOT_ACCEPT_OBJECT_IN_TYPE] `StructType` can not accept object `date` in type `str`."
      ]
     },
     "metadata": {
      "application/vnd.databricks.v1+output": {
       "arguments": {},
       "data": "\u001B[0;31m---------------------------------------------------------------------------\u001B[0m\n\u001B[0;31mPySparkTypeError\u001B[0m                          Traceback (most recent call last)\nFile \u001B[0;32m<command-1836405509211055>, line 10\u001B[0m\n\u001B[1;32m      1\u001B[0m \u001B[38;5;66;03m# Define the schema\u001B[39;00m\n\u001B[1;32m      2\u001B[0m schema \u001B[38;5;241m=\u001B[39m StructType([\n\u001B[1;32m      3\u001B[0m     StructField(\u001B[38;5;124m\"\u001B[39m\u001B[38;5;124mdate\u001B[39m\u001B[38;5;124m\"\u001B[39m, DateType(), \u001B[38;5;28;01mTrue\u001B[39;00m),\n\u001B[1;32m      4\u001B[0m     StructField(\u001B[38;5;124m\"\u001B[39m\u001B[38;5;124maapl\u001B[39m\u001B[38;5;124m\"\u001B[39m, FloatType(), \u001B[38;5;28;01mTrue\u001B[39;00m),\n\u001B[0;32m   (...)\u001B[0m\n\u001B[1;32m      7\u001B[0m     StructField(\u001B[38;5;124m\"\u001B[39m\u001B[38;5;124mgoogl\u001B[39m\u001B[38;5;124m\"\u001B[39m, FloatType(), \u001B[38;5;28;01mTrue\u001B[39;00m)\n\u001B[1;32m      8\u001B[0m ])\n\u001B[0;32m---> 10\u001B[0m garch_vol \u001B[38;5;241m=\u001B[39m spark\u001B[38;5;241m.\u001B[39mcreateDataFrame(garch_vol, schema\u001B[38;5;241m=\u001B[39mschema)\n\nFile \u001B[0;32m/databricks/spark/python/pyspark/instrumentation_utils.py:48\u001B[0m, in \u001B[0;36m_wrap_function.<locals>.wrapper\u001B[0;34m(*args, **kwargs)\u001B[0m\n\u001B[1;32m     46\u001B[0m start \u001B[38;5;241m=\u001B[39m time\u001B[38;5;241m.\u001B[39mperf_counter()\n\u001B[1;32m     47\u001B[0m \u001B[38;5;28;01mtry\u001B[39;00m:\n\u001B[0;32m---> 48\u001B[0m     res \u001B[38;5;241m=\u001B[39m \u001B[43mfunc\u001B[49m\u001B[43m(\u001B[49m\u001B[38;5;241;43m*\u001B[39;49m\u001B[43margs\u001B[49m\u001B[43m,\u001B[49m\u001B[43m \u001B[49m\u001B[38;5;241;43m*\u001B[39;49m\u001B[38;5;241;43m*\u001B[39;49m\u001B[43mkwargs\u001B[49m\u001B[43m)\u001B[49m\n\u001B[1;32m     49\u001B[0m     logger\u001B[38;5;241m.\u001B[39mlog_success(\n\u001B[1;32m     50\u001B[0m         module_name, class_name, function_name, time\u001B[38;5;241m.\u001B[39mperf_counter() \u001B[38;5;241m-\u001B[39m start, signature\n\u001B[1;32m     51\u001B[0m     )\n\u001B[1;32m     52\u001B[0m     \u001B[38;5;28;01mreturn\u001B[39;00m res\n\nFile \u001B[0;32m/databricks/spark/python/pyspark/sql/session.py:1407\u001B[0m, in \u001B[0;36mSparkSession.createDataFrame\u001B[0;34m(self, data, schema, samplingRatio, verifySchema)\u001B[0m\n\u001B[1;32m   1402\u001B[0m \u001B[38;5;28;01mif\u001B[39;00m has_pandas \u001B[38;5;129;01mand\u001B[39;00m \u001B[38;5;28misinstance\u001B[39m(data, pd\u001B[38;5;241m.\u001B[39mDataFrame):\n\u001B[1;32m   1403\u001B[0m     \u001B[38;5;66;03m# Create a DataFrame from pandas DataFrame.\u001B[39;00m\n\u001B[1;32m   1404\u001B[0m     \u001B[38;5;28;01mreturn\u001B[39;00m \u001B[38;5;28msuper\u001B[39m(SparkSession, \u001B[38;5;28mself\u001B[39m)\u001B[38;5;241m.\u001B[39mcreateDataFrame(  \u001B[38;5;66;03m# type: ignore[call-overload]\u001B[39;00m\n\u001B[1;32m   1405\u001B[0m         data, schema, samplingRatio, verifySchema\n\u001B[1;32m   1406\u001B[0m     )\n\u001B[0;32m-> 1407\u001B[0m \u001B[38;5;28;01mreturn\u001B[39;00m \u001B[38;5;28;43mself\u001B[39;49m\u001B[38;5;241;43m.\u001B[39;49m\u001B[43m_create_dataframe\u001B[49m\u001B[43m(\u001B[49m\n\u001B[1;32m   1408\u001B[0m \u001B[43m    \u001B[49m\u001B[43mdata\u001B[49m\u001B[43m,\u001B[49m\u001B[43m \u001B[49m\u001B[43mschema\u001B[49m\u001B[43m,\u001B[49m\u001B[43m \u001B[49m\u001B[43msamplingRatio\u001B[49m\u001B[43m,\u001B[49m\u001B[43m \u001B[49m\u001B[43mverifySchema\u001B[49m\u001B[43m  \u001B[49m\u001B[38;5;66;43;03m# type: ignore[arg-type]\u001B[39;49;00m\n\u001B[1;32m   1409\u001B[0m \u001B[43m\u001B[49m\u001B[43m)\u001B[49m\n\nFile \u001B[0;32m/databricks/spark/python/pyspark/sql/session.py:1457\u001B[0m, in \u001B[0;36mSparkSession._create_dataframe\u001B[0;34m(self, data, schema, samplingRatio, verifySchema)\u001B[0m\n\u001B[1;32m   1455\u001B[0m     rdd, struct \u001B[38;5;241m=\u001B[39m \u001B[38;5;28mself\u001B[39m\u001B[38;5;241m.\u001B[39m_createFromRDD(data\u001B[38;5;241m.\u001B[39mmap(prepare), schema, samplingRatio)\n\u001B[1;32m   1456\u001B[0m \u001B[38;5;28;01melse\u001B[39;00m:\n\u001B[0;32m-> 1457\u001B[0m     rdd, struct \u001B[38;5;241m=\u001B[39m \u001B[38;5;28;43mself\u001B[39;49m\u001B[38;5;241;43m.\u001B[39;49m\u001B[43m_createFromLocal\u001B[49m\u001B[43m(\u001B[49m\u001B[38;5;28;43mmap\u001B[39;49m\u001B[43m(\u001B[49m\u001B[43mprepare\u001B[49m\u001B[43m,\u001B[49m\u001B[43m \u001B[49m\u001B[43mdata\u001B[49m\u001B[43m)\u001B[49m\u001B[43m,\u001B[49m\u001B[43m \u001B[49m\u001B[43mschema\u001B[49m\u001B[43m)\u001B[49m\n\u001B[1;32m   1458\u001B[0m jrdd \u001B[38;5;241m=\u001B[39m \u001B[38;5;28mself\u001B[39m\u001B[38;5;241m.\u001B[39m_jvm\u001B[38;5;241m.\u001B[39mSerDeUtil\u001B[38;5;241m.\u001B[39mtoJavaArray(rdd\u001B[38;5;241m.\u001B[39m_to_java_object_rdd())\n\u001B[1;32m   1459\u001B[0m jdf \u001B[38;5;241m=\u001B[39m \u001B[38;5;28mself\u001B[39m\u001B[38;5;241m.\u001B[39m_jsparkSession\u001B[38;5;241m.\u001B[39mapplySchemaToPythonRDD(jrdd\u001B[38;5;241m.\u001B[39mrdd(), struct\u001B[38;5;241m.\u001B[39mjson())\n\nFile \u001B[0;32m/databricks/spark/python/pyspark/sql/session.py:1059\u001B[0m, in \u001B[0;36mSparkSession._createFromLocal\u001B[0;34m(self, data, schema)\u001B[0m\n\u001B[1;32m   1051\u001B[0m \u001B[38;5;28;01mdef\u001B[39;00m \u001B[38;5;21m_createFromLocal\u001B[39m(\n\u001B[1;32m   1052\u001B[0m     \u001B[38;5;28mself\u001B[39m, data: Iterable[Any], schema: Optional[Union[DataType, List[\u001B[38;5;28mstr\u001B[39m]]]\n\u001B[1;32m   1053\u001B[0m ) \u001B[38;5;241m-\u001B[39m\u001B[38;5;241m>\u001B[39m Tuple[\u001B[38;5;124m\"\u001B[39m\u001B[38;5;124mRDD[Tuple]\u001B[39m\u001B[38;5;124m\"\u001B[39m, StructType]:\n\u001B[1;32m   1054\u001B[0m     \u001B[38;5;124;03m\"\"\"\u001B[39;00m\n\u001B[1;32m   1055\u001B[0m \u001B[38;5;124;03m    Create an RDD for DataFrame from a list or pandas.DataFrame, returns the RDD and schema.\u001B[39;00m\n\u001B[1;32m   1056\u001B[0m \u001B[38;5;124;03m    This would be broken with table acl enabled as user process does not have permission to\u001B[39;00m\n\u001B[1;32m   1057\u001B[0m \u001B[38;5;124;03m    write temp files.\u001B[39;00m\n\u001B[1;32m   1058\u001B[0m \u001B[38;5;124;03m    \"\"\"\u001B[39;00m\n\u001B[0;32m-> 1059\u001B[0m     internal_data, struct \u001B[38;5;241m=\u001B[39m \u001B[38;5;28;43mself\u001B[39;49m\u001B[38;5;241;43m.\u001B[39;49m\u001B[43m_wrap_data_schema\u001B[49m\u001B[43m(\u001B[49m\u001B[43mdata\u001B[49m\u001B[43m,\u001B[49m\u001B[43m \u001B[49m\u001B[43mschema\u001B[49m\u001B[43m)\u001B[49m\n\u001B[1;32m   1060\u001B[0m     \u001B[38;5;28;01mreturn\u001B[39;00m \u001B[38;5;28mself\u001B[39m\u001B[38;5;241m.\u001B[39m_sc\u001B[38;5;241m.\u001B[39mparallelize(internal_data), struct\n\nFile \u001B[0;32m/databricks/spark/python/pyspark/sql/session.py:1023\u001B[0m, in \u001B[0;36mSparkSession._wrap_data_schema\u001B[0;34m(self, data, schema)\u001B[0m\n\u001B[1;32m   1018\u001B[0m \u001B[38;5;28;01mdef\u001B[39;00m \u001B[38;5;21m_wrap_data_schema\u001B[39m(\n\u001B[1;32m   1019\u001B[0m     \u001B[38;5;28mself\u001B[39m, data: Iterable[Any], schema: Optional[Union[DataType, List[\u001B[38;5;28mstr\u001B[39m]]]\n\u001B[1;32m   1020\u001B[0m ) \u001B[38;5;241m-\u001B[39m\u001B[38;5;241m>\u001B[39m Tuple[Iterable[Tuple], StructType]:\n\u001B[1;32m   1021\u001B[0m     \u001B[38;5;66;03m# make sure data could consumed multiple times\u001B[39;00m\n\u001B[1;32m   1022\u001B[0m     \u001B[38;5;28;01mif\u001B[39;00m \u001B[38;5;129;01mnot\u001B[39;00m \u001B[38;5;28misinstance\u001B[39m(data, \u001B[38;5;28mlist\u001B[39m):\n\u001B[0;32m-> 1023\u001B[0m         data \u001B[38;5;241m=\u001B[39m \u001B[38;5;28;43mlist\u001B[39;49m\u001B[43m(\u001B[49m\u001B[43mdata\u001B[49m\u001B[43m)\u001B[49m\n\u001B[1;32m   1025\u001B[0m     \u001B[38;5;28;01mif\u001B[39;00m schema \u001B[38;5;129;01mis\u001B[39;00m \u001B[38;5;28;01mNone\u001B[39;00m \u001B[38;5;129;01mor\u001B[39;00m \u001B[38;5;28misinstance\u001B[39m(schema, (\u001B[38;5;28mlist\u001B[39m, \u001B[38;5;28mtuple\u001B[39m)):\n\u001B[1;32m   1026\u001B[0m         struct \u001B[38;5;241m=\u001B[39m \u001B[38;5;28mself\u001B[39m\u001B[38;5;241m.\u001B[39m_inferSchemaFromList(data, names\u001B[38;5;241m=\u001B[39mschema)\n\nFile \u001B[0;32m/databricks/spark/python/pyspark/sql/session.py:1423\u001B[0m, in \u001B[0;36mSparkSession._create_dataframe.<locals>.prepare\u001B[0;34m(obj)\u001B[0m\n\u001B[1;32m   1421\u001B[0m \u001B[38;5;129m@no_type_check\u001B[39m\n\u001B[1;32m   1422\u001B[0m \u001B[38;5;28;01mdef\u001B[39;00m \u001B[38;5;21mprepare\u001B[39m(obj):\n\u001B[0;32m-> 1423\u001B[0m     \u001B[43mverify_func\u001B[49m\u001B[43m(\u001B[49m\u001B[43mobj\u001B[49m\u001B[43m)\u001B[49m\n\u001B[1;32m   1424\u001B[0m     \u001B[38;5;28;01mreturn\u001B[39;00m obj\n\nFile \u001B[0;32m/databricks/spark/python/pyspark/sql/types.py:2187\u001B[0m, in \u001B[0;36m_make_type_verifier.<locals>.verify\u001B[0;34m(obj)\u001B[0m\n\u001B[1;32m   2185\u001B[0m \u001B[38;5;28;01mdef\u001B[39;00m \u001B[38;5;21mverify\u001B[39m(obj: Any) \u001B[38;5;241m-\u001B[39m\u001B[38;5;241m>\u001B[39m \u001B[38;5;28;01mNone\u001B[39;00m:\n\u001B[1;32m   2186\u001B[0m     \u001B[38;5;28;01mif\u001B[39;00m \u001B[38;5;129;01mnot\u001B[39;00m verify_nullability(obj):\n\u001B[0;32m-> 2187\u001B[0m         \u001B[43mverify_value\u001B[49m\u001B[43m(\u001B[49m\u001B[43mobj\u001B[49m\u001B[43m)\u001B[49m\n\nFile \u001B[0;32m/databricks/spark/python/pyspark/sql/types.py:2166\u001B[0m, in \u001B[0;36m_make_type_verifier.<locals>.verify_struct\u001B[0;34m(obj)\u001B[0m\n\u001B[1;32m   2164\u001B[0m         verifier(d\u001B[38;5;241m.\u001B[39mget(f))\n\u001B[1;32m   2165\u001B[0m \u001B[38;5;28;01melse\u001B[39;00m:\n\u001B[0;32m-> 2166\u001B[0m     \u001B[38;5;28;01mraise\u001B[39;00m PySparkTypeError(\n\u001B[1;32m   2167\u001B[0m         error_class\u001B[38;5;241m=\u001B[39m\u001B[38;5;124m\"\u001B[39m\u001B[38;5;124mCANNOT_ACCEPT_OBJECT_IN_TYPE\u001B[39m\u001B[38;5;124m\"\u001B[39m,\n\u001B[1;32m   2168\u001B[0m         message_parameters\u001B[38;5;241m=\u001B[39m{\n\u001B[1;32m   2169\u001B[0m             \u001B[38;5;124m\"\u001B[39m\u001B[38;5;124mdata_type\u001B[39m\u001B[38;5;124m\"\u001B[39m: \u001B[38;5;124m\"\u001B[39m\u001B[38;5;124mStructType\u001B[39m\u001B[38;5;124m\"\u001B[39m,\n\u001B[1;32m   2170\u001B[0m             \u001B[38;5;124m\"\u001B[39m\u001B[38;5;124mobj_name\u001B[39m\u001B[38;5;124m\"\u001B[39m: \u001B[38;5;28mstr\u001B[39m(obj),\n\u001B[1;32m   2171\u001B[0m             \u001B[38;5;124m\"\u001B[39m\u001B[38;5;124mobj_type\u001B[39m\u001B[38;5;124m\"\u001B[39m: \u001B[38;5;28mtype\u001B[39m(obj)\u001B[38;5;241m.\u001B[39m\u001B[38;5;18m__name__\u001B[39m,\n\u001B[1;32m   2172\u001B[0m         },\n\u001B[1;32m   2173\u001B[0m     )\n\n\u001B[0;31mPySparkTypeError\u001B[0m: [CANNOT_ACCEPT_OBJECT_IN_TYPE] `StructType` can not accept object `date` in type `str`.",
       "errorSummary": "<span class='ansi-red-fg'>PySparkTypeError</span>: [CANNOT_ACCEPT_OBJECT_IN_TYPE] `StructType` can not accept object `date` in type `str`.",
       "errorTraceType": "ansi",
       "metadata": {},
       "type": "ipynbError"
      }
     },
     "output_type": "display_data"
    }
   ],
   "source": [
    "# Define the schema\n",
    "schema = StructType([\n",
    "    StructField(\"date\", DateType(), True),\n",
    "    StructField(\"aapl\", FloatType(), True),\n",
    "    StructField(\"amzn\", FloatType(), True),\n",
    "    StructField(\"msft\", FloatType(), True),\n",
    "    StructField(\"googl\", FloatType(), True)\n",
    "])\n",
    "\n",
    "garch_vol = spark.createDataFrame(garch_vol, schema=schema)"
   ]
  }
 ],
 "metadata": {
  "application/vnd.databricks.v1+notebook": {
   "dashboards": [],
   "language": "python",
   "notebookMetadata": {
    "mostRecentlyExecutedCommandWithImplicitDF": {
     "commandId": 3573657800724953,
     "dataframes": [
      "_sqldf"
     ]
    },
    "pythonIndentUnit": 4
   },
   "notebookName": "sql_daily_table",
   "widgets": {}
  },
  "kernelspec": {
   "display_name": "Python 3",
   "language": "python",
   "name": "python3"
  },
  "language_info": {
   "codemirror_mode": {
    "name": "ipython",
    "version": 3
   },
   "file_extension": ".py",
   "mimetype": "text/x-python",
   "name": "python",
   "nbconvert_exporter": "python",
   "pygments_lexer": "ipython3",
   "version": "3.12.1"
  }
 },
 "nbformat": 4,
 "nbformat_minor": 0
}
