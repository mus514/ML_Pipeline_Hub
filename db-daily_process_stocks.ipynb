{
 "cells": [
  {
   "cell_type": "markdown",
   "metadata": {
    "application/vnd.databricks.v1+cell": {
     "cellMetadata": {
      "byteLimit": 2048000,
      "rowLimit": 10000
     },
     "inputWidgets": {},
     "nuid": "d6a1e0fb-31aa-462d-9860-b6d7963d3ce0",
     "showTitle": false,
     "title": ""
    }
   },
   "source": [
    "---\n",
    "Author: Mustapha Bouhsen <br>\n",
    "[LinkedIn](https://www.linkedin.com/in/mustapha-bouhsen/)<br>\n",
    "[Git](https://github.com/mus514)<br>\n",
    "Date: February 2, 2024<br>\n",
    "---"
   ]
  },
  {
   "cell_type": "code",
   "execution_count": 0,
   "metadata": {
    "application/vnd.databricks.v1+cell": {
     "cellMetadata": {
      "byteLimit": 2048000,
      "rowLimit": 10000
     },
     "inputWidgets": {},
     "nuid": "5af7d6dd-6d88-4f1d-8d94-353b6b5db53d",
     "showTitle": false,
     "title": ""
    }
   },
   "outputs": [],
   "source": [
    "from pyspark.sql.types import StructType, StructField, IntegerType, StringType, FloatType, DateType\n",
    "from pyspark.sql import functions as F\n",
    "import pandas as pd\n",
    "import numpy as np\n",
    "from datetime import datetime\n",
    "import json"
   ]
  },
  {
   "cell_type": "markdown",
   "metadata": {
    "application/vnd.databricks.v1+cell": {
     "cellMetadata": {
      "byteLimit": 2048000,
      "rowLimit": 10000
     },
     "inputWidgets": {},
     "nuid": "bfc5e317-cb99-4d6b-a211-a1ab8bb20e94",
     "showTitle": false,
     "title": ""
    }
   },
   "source": [
    "\n",
    "### Load files from Azure blob storage : Set the data location and type\n"
   ]
  },
  {
   "cell_type": "code",
   "execution_count": 0,
   "metadata": {
    "application/vnd.databricks.v1+cell": {
     "cellMetadata": {
      "byteLimit": 2048000,
      "rowLimit": 10000
     },
     "inputWidgets": {},
     "nuid": "18aa4b01-e150-48ef-a636-87385f306558",
     "showTitle": false,
     "title": ""
    }
   },
   "outputs": [],
   "source": [
    "# storage_account_name = \"mymlprojects\"\n",
    "# storage_key = \"?sv=2022-11-02&ss=bfqt&srt=sco&sp=rwdlacupyx&se=2024-03-09T09:14:29Z&st=2024-02-03T01:14:29Z&spr=https&sig=v%2Bmvq02eWWEzGfaXqGJ%2F8BJiTJrD3PPGS4eL66SIsC8%3D\"\n",
    "\n",
    "# container_name = \"prod\"\n",
    "# mount_point = \"/mnt/prod\"\n",
    "\n",
    "# dbutils.fs.mount(\n",
    "#   source = f\"wasbs://{container_name}@{storage_account_name}.blob.core.windows.net/\",\n",
    "#   mount_point = mount_point,\n",
    "#   extra_configs = {f\"fs.azure.sas.{container_name}.{storage_account_name}.blob.core.windows.net\":storage_key})"
   ]
  },
  {
   "cell_type": "code",
   "execution_count": 0,
   "metadata": {
    "application/vnd.databricks.v1+cell": {
     "cellMetadata": {
      "byteLimit": 2048000,
      "rowLimit": 10000
     },
     "inputWidgets": {},
     "nuid": "51c8842f-8c1f-428e-a1e3-a1869f5ac63c",
     "showTitle": false,
     "title": ""
    }
   },
   "outputs": [],
   "source": [
    "#-----------------------------------------\n",
    "# Set the the raw and the prof folder paths\n",
    "#-----------------------------------------\n",
    "raw_folder_path = \"/mnt/raw/\"\n",
    "prod_folder_path = \"/mnt/prod/\"\n",
    "\n",
    "raw_files_paths = [file.path for file in dbutils.fs.ls(raw_folder_path)]"
   ]
  },
  {
   "cell_type": "code",
   "execution_count": 0,
   "metadata": {
    "application/vnd.databricks.v1+cell": {
     "cellMetadata": {
      "byteLimit": 2048000,
      "rowLimit": 10000
     },
     "inputWidgets": {},
     "nuid": "69e79333-8bdc-4208-aea0-c99f2c5d831f",
     "showTitle": false,
     "title": ""
    }
   },
   "outputs": [],
   "source": [
    "#-----------------------------------------\n",
    "# The schema\n",
    "#-----------------------------------------\n",
    "schema = StructType([\n",
    "    StructField(\"date\", StringType(), True),\n",
    "    StructField(\"open\", StringType(), True),\n",
    "    StructField(\"high\", StringType(), True),\n",
    "    StructField(\"low\", StringType(), True),\n",
    "    StructField(\"close\", StringType(), True),\n",
    "    StructField(\"volume\", StringType(), True)\n",
    "])\n",
    "\n",
    "col_float = [\"open\", \"high\", \"low\", \"close\", \"volume\"]"
   ]
  },
  {
   "cell_type": "code",
   "execution_count": 0,
   "metadata": {
    "application/vnd.databricks.v1+cell": {
     "cellMetadata": {
      "byteLimit": 2048000,
      "rowLimit": 10000
     },
     "inputWidgets": {},
     "nuid": "5f10868c-340c-4622-a5fe-f9d8ec2bc6eb",
     "showTitle": false,
     "title": ""
    }
   },
   "outputs": [],
   "source": [
    "#-----------------------------------------\n",
    "# Load the json into spark data frame \n",
    "#-----------------------------------------\n",
    "data = spark.read.json(raw_files_paths[1]).collect()\n",
    "df = pd.DataFrame(data[0][1].asDict()).T.reset_index()\n",
    "df = spark.createDataFrame(df, schema=schema)"
   ]
  },
  {
   "cell_type": "code",
   "execution_count": 0,
   "metadata": {
    "application/vnd.databricks.v1+cell": {
     "cellMetadata": {
      "byteLimit": 2048000,
      "rowLimit": 10000
     },
     "inputWidgets": {},
     "nuid": "b439f897-6eb8-443c-8ba4-fa8085685523",
     "showTitle": false,
     "title": ""
    }
   },
   "outputs": [],
   "source": [
    "#-----------------------------------------\n",
    "# Convert the columns type\n",
    "#-----------------------------------------\n",
    "# date column\n",
    "df = df.withColumn(\"date\", F.col(\"date\").cast(DateType()))\n",
    "# Float columns\n",
    "for col in col_float:\n",
    "    df = df.withColumn(col, F.col(col).cast(FloatType()))"
   ]
  },
  {
   "cell_type": "code",
   "execution_count": 0,
   "metadata": {
    "application/vnd.databricks.v1+cell": {
     "cellMetadata": {
      "byteLimit": 2048000,
      "rowLimit": 10000
     },
     "inputWidgets": {},
     "nuid": "2907dc67-35a3-4c6b-90b4-9bc283a34f64",
     "showTitle": false,
     "title": ""
    }
   },
   "outputs": [
    {
     "output_type": "stream",
     "name": "stdout",
     "output_type": "stream",
     "text": [
      "root\n |-- date: date (nullable = true)\n |-- open: float (nullable = true)\n |-- high: float (nullable = true)\n |-- low: float (nullable = true)\n |-- close: float (nullable = true)\n |-- volume: float (nullable = true)\n\n"
     ]
    }
   ],
   "source": [
    "df.printSchema()"
   ]
  },
  {
   "cell_type": "code",
   "execution_count": 0,
   "metadata": {
    "application/vnd.databricks.v1+cell": {
     "cellMetadata": {
      "byteLimit": 2048000,
      "rowLimit": 10000
     },
     "inputWidgets": {},
     "nuid": "908491e1-7c19-4536-9b34-d8c0d77dddb2",
     "showTitle": false,
     "title": ""
    }
   },
   "outputs": [],
   "source": [
    "df = df.withColumn(\"year\", F.year(F.col(\"date\")))\n",
    "df = df.withColumn(\"month\", F.month(F.col(\"date\")))"
   ]
  },
  {
   "cell_type": "code",
   "execution_count": 0,
   "metadata": {
    "application/vnd.databricks.v1+cell": {
     "cellMetadata": {
      "byteLimit": 2048000,
      "rowLimit": 10000
     },
     "inputWidgets": {},
     "nuid": "63a6d99b-122c-4001-96cf-53f45821f973",
     "showTitle": false,
     "title": ""
    }
   },
   "outputs": [
    {
     "output_type": "stream",
     "name": "stdout",
     "output_type": "stream",
     "text": [
      "+----------+-----+-----+-----+-----+---------+----+-----+\n|      date| open| high|  low|close|   volume|year|month|\n+----------+-----+-----+-----+-----+---------+----+-----+\n|1999-11-01|68.06|71.88|66.31|69.13|1.28241E7|1999|   11|\n|1999-11-02|69.75| 70.0|65.06|66.44|1.32432E7|1999|   11|\n|1999-11-03|68.19| 68.5| 65.0|65.81|1.07721E7|1999|   11|\n|1999-11-04|67.19|67.19| 61.0|63.06|1.67592E7|1999|   11|\n|1999-11-05|64.75| 65.5|62.25|64.94|1.10914E7|1999|   11|\n|1999-11-08|64.81| 80.0| 63.5| 78.0|3.23394E7|1999|   11|\n|1999-11-09|80.88|83.06| 70.0|70.81|2.64771E7|1999|   11|\n|1999-11-10|71.56| 75.0|70.13| 72.0|1.15067E7|1999|   11|\n|1999-11-11|74.75| 75.0|71.38| 73.0|9293900.0|1999|   11|\n|1999-11-12|73.75| 75.0|70.81|74.94|1.03196E7|1999|   11|\n|1999-11-15|75.63| 76.0|73.31| 73.5|6437200.0|1999|   11|\n|1999-11-16|74.25|79.63|73.75|78.94|1.52387E7|1999|   11|\n|1999-11-17|77.94| 80.0|75.44| 76.5|6657400.0|1999|   11|\n|1999-11-18|76.75|78.19|75.25|77.94|5810400.0|1999|   11|\n|1999-11-19|77.88|78.13|76.06|77.94|5760600.0|1999|   11|\n|1999-11-22|77.88| 82.5| 76.0| 80.5|1.07084E7|1999|   11|\n|1999-11-23|80.38|85.63|76.25|81.75|1.83325E7|1999|   11|\n|1999-11-24|84.25|87.75|83.25|87.25|1.44831E7|1999|   11|\n|1999-11-26|91.06|95.13| 90.5|93.13| 1.1496E7|1999|   11|\n|1999-11-29| 95.5|96.88|90.13|90.44|1.80537E7|1999|   11|\n+----------+-----+-----+-----+-----+---------+----+-----+\nonly showing top 20 rows\n\n"
     ]
    }
   ],
   "source": [
    "df.show()"
   ]
  },
  {
   "cell_type": "code",
   "execution_count": 0,
   "metadata": {
    "application/vnd.databricks.v1+cell": {
     "cellMetadata": {
      "byteLimit": 2048000,
      "rowLimit": 10000
     },
     "inputWidgets": {},
     "nuid": "c39e3101-95d5-450d-804c-5688b340e446",
     "showTitle": false,
     "title": ""
    }
   },
   "outputs": [],
   "source": [
    "# df.write.partitionBy([\"year\", \"month\"]).mode(\"overwrite\").parquet(prod_folder_path+\"/tempo\")"
   ]
  },
  {
   "cell_type": "code",
   "execution_count": 0,
   "metadata": {
    "application/vnd.databricks.v1+cell": {
     "cellMetadata": {
      "byteLimit": 2048000,
      "rowLimit": 10000
     },
     "inputWidgets": {},
     "nuid": "ac6a8fb7-c42a-4034-a776-77639ccc634d",
     "showTitle": false,
     "title": ""
    }
   },
   "outputs": [],
   "source": [
    "# for file in raw_files_paths:\n",
    "#     # Load the data\n",
    "#     data = spark.read.json(file).collect()\n",
    "#     df = pd.DataFrame(data[0][1].asDict()).T.reset_index()\n",
    "#     df = spark.createDataFrame(df, schema=schema)\n",
    "\n",
    "#     #Convert the columns type\n",
    "#     # Date column\n",
    "#     df = df.withColumn(\"date\", F.col(\"date\").cast(DateType()))\n",
    "#     # Float columns\n",
    "#     for col in col_float:\n",
    "#         df = df.withColumn(col, F.col(col).cast(FloatType()))\n",
    "    \n",
    "\n"
   ]
  },
  {
   "cell_type": "code",
   "execution_count": 0,
   "metadata": {
    "application/vnd.databricks.v1+cell": {
     "cellMetadata": {
      "byteLimit": 2048000,
      "rowLimit": 10000
     },
     "inputWidgets": {},
     "nuid": "c7b51b32-032d-4cf3-98db-ddf71d694ecc",
     "showTitle": false,
     "title": ""
    }
   },
   "outputs": [
    {
     "output_type": "execute_result",
     "data": {
      "text/plain": [
       "False"
      ]
     },
     "execution_count": 85,
     "metadata": {},
     "output_type": "execute_result"
    }
   ],
   "source": [
    "temp_folder = prod_folder_path+\"/tempo/\"\n",
    "dbutils.fs.rm(temp_folder+\"_SUCCESS\")"
   ]
  },
  {
   "cell_type": "code",
   "execution_count": 0,
   "metadata": {
    "application/vnd.databricks.v1+cell": {
     "cellMetadata": {
      "byteLimit": 2048000,
      "rowLimit": 10000
     },
     "inputWidgets": {},
     "nuid": "cc82bdee-acca-478d-b49e-90bf78104a91",
     "showTitle": false,
     "title": ""
    }
   },
   "outputs": [],
   "source": [
    "def get_files_paths_from_folders(folder_path):\n",
    "    \"\"\"\n",
    "    Recursively retrieves the paths of all files within the specified folder and its subfolders.\n",
    "\n",
    "    Parameters:\n",
    "    - folder_path (str): The path to the folder for which file paths are to be retrieved.\n",
    "\n",
    "    Returns:\n",
    "    - List[str]: A list containing the paths of all files within the specified folder and its subfolders.\n",
    "    \"\"\"\n",
    "    # Get the list of paths (files and subfolders) within the specified folder\n",
    "    paths = dbutils.fs.ls(folder_path)\n",
    "\n",
    "    # Initialize an empty list to store file paths\n",
    "    my_path = []\n",
    "\n",
    "    # Iterate through the paths to identify files and subfolders\n",
    "    for key in paths:\n",
    "        # Check if the current path corresponds to a file\n",
    "        if key.isFile():\n",
    "            # If it's a file, append its path to the list\n",
    "            my_path.append(key[0])\n",
    "        else:\n",
    "            # If it's a subfolder, recursively call the function to get file paths within the subfolder\n",
    "            my_path = my_path + get_files_paths_from_folders(key[0])\n",
    "\n",
    "    # Return the final list of file paths\n",
    "    return my_path"
   ]
  },
  {
   "cell_type": "code",
   "execution_count": 0,
   "metadata": {
    "application/vnd.databricks.v1+cell": {
     "cellMetadata": {
      "byteLimit": 2048000,
      "rowLimit": 10000
     },
     "inputWidgets": {},
     "nuid": "0d3edd94-4e52-40e4-885d-2c84b7553e8b",
     "showTitle": false,
     "title": ""
    }
   },
   "outputs": [
    {
     "output_type": "execute_result",
     "data": {
      "text/plain": [
       "['dbfs:/mnt/prod/tempo/year=1999/month=11/_SUCCESS',\n",
       " 'dbfs:/mnt/prod/tempo/year=1999/month=11/_committed_2825275510105287680',\n",
       " 'dbfs:/mnt/prod/tempo/year=1999/month=11/_started_2825275510105287680',\n",
       " 'dbfs:/mnt/prod/tempo/year=1999/month=11/part-00000-tid-2825275510105287680-3ca0d444-bc67-4525-a940-02595bdf210c-6-1.c000.snappy.parquet',\n",
       " 'dbfs:/mnt/prod/tempo/year=1999/month=12/_SUCCESS',\n",
       " 'dbfs:/mnt/prod/tempo/year=1999/month=12/_committed_2825275510105287680',\n",
       " 'dbfs:/mnt/prod/tempo/year=1999/month=12/_started_2825275510105287680',\n",
       " 'dbfs:/mnt/prod/tempo/year=1999/month=12/part-00000-tid-2825275510105287680-3ca0d444-bc67-4525-a940-02595bdf210c-6-64.c000.snappy.parquet',\n",
       " 'dbfs:/mnt/prod/tempo/year=2000/month=1/_SUCCESS',\n",
       " 'dbfs:/mnt/prod/tempo/year=2000/month=1/_committed_2825275510105287680']"
      ]
     },
     "execution_count": 87,
     "metadata": {},
     "output_type": "execute_result"
    }
   ],
   "source": [
    "get_files_paths_from_folders(temp_folder)[0:10]"
   ]
  },
  {
   "cell_type": "code",
   "execution_count": 0,
   "metadata": {
    "application/vnd.databricks.v1+cell": {
     "cellMetadata": {
      "byteLimit": 2048000,
      "rowLimit": 10000
     },
     "inputWidgets": {},
     "nuid": "0990bf0c-0a90-4fcb-9084-071a0a7dad02",
     "showTitle": false,
     "title": ""
    }
   },
   "outputs": [
    {
     "output_type": "execute_result",
     "data": {
      "text/plain": [
       "[FileInfo(path='dbfs:/mnt/prod/tempo/year=1999/month=11/', name='month=11/', size=0, modificationTime=0),\n",
       " FileInfo(path='dbfs:/mnt/prod/tempo/year=1999/month=12/', name='month=12/', size=0, modificationTime=0)]"
      ]
     },
     "execution_count": 88,
     "metadata": {},
     "output_type": "execute_result"
    }
   ],
   "source": [
    "dbutils.fs.ls(dbutils.fs.ls(temp_folder)[0][0])"
   ]
  }
 ],
 "metadata": {
  "application/vnd.databricks.v1+notebook": {
   "dashboards": [],
   "language": "python",
   "notebookMetadata": {
    "mostRecentlyExecutedCommandWithImplicitDF": {
     "commandId": -1,
     "dataframes": [
      "_sqldf"
     ]
    },
    "pythonIndentUnit": 4
   },
   "notebookName": "db-daily_process_stocks",
   "widgets": {}
  },
  "kernelspec": {
   "display_name": "Python 3",
   "language": "python",
   "name": "python3"
  },
  "language_info": {
   "codemirror_mode": {
    "name": "ipython",
    "version": 3
   },
   "file_extension": ".py",
   "mimetype": "text/x-python",
   "name": "python",
   "nbconvert_exporter": "python",
   "pygments_lexer": "ipython3",
   "version": "3.12.1"
  }
 },
 "nbformat": 4,
 "nbformat_minor": 0
}
