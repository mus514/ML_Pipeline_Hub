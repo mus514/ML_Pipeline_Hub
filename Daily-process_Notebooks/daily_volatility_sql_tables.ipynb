{
 "cells": [
  {
   "cell_type": "markdown",
   "metadata": {
    "application/vnd.databricks.v1+cell": {
     "cellMetadata": {
      "byteLimit": 2048000,
      "rowLimit": 10000
     },
     "inputWidgets": {},
     "nuid": "d6a1e0fb-31aa-462d-9860-b6d7963d3ce0",
     "showTitle": false,
     "title": ""
    }
   },
   "source": [
    "---\n",
    "Author: Mustapha Bouhsen <br>\n",
    "[LinkedIn](https://www.linkedin.com/in/mustapha-bouhsen/)<br>\n",
    "[Git](https://github.com/mus514)<br>\n",
    "Date: February 14, 2024<br>\n",
    "---"
   ]
  },
  {
   "cell_type": "code",
   "execution_count": 0,
   "metadata": {
    "application/vnd.databricks.v1+cell": {
     "cellMetadata": {
      "byteLimit": 2048000,
      "rowLimit": 10000
     },
     "inputWidgets": {},
     "nuid": "4c37ce64-7be6-4c97-9b71-6b27b9fbfc18",
     "showTitle": false,
     "title": ""
    },
    "jupyter": {
     "outputs_hidden": true
    }
   },
   "outputs": [],
   "source": [
    "%run Repos/bouhsen.m@gmail.com/ML_Pipeline_Hub/library/garch_model"
   ]
  },
  {
   "cell_type": "code",
   "execution_count": 0,
   "metadata": {
    "application/vnd.databricks.v1+cell": {
     "cellMetadata": {
      "byteLimit": 2048000,
      "rowLimit": 10000
     },
     "inputWidgets": {},
     "nuid": "cf4acc20-31d8-4273-b1d9-0f5ba2e1080e",
     "showTitle": false,
     "title": ""
    },
    "jupyter": {
     "outputs_hidden": true
    }
   },
   "outputs": [],
   "source": [
    "%run Repos/bouhsen.m@gmail.com/ML_Pipeline_Hub/library/daily_utilities"
   ]
  },
  {
   "cell_type": "markdown",
   "metadata": {
    "application/vnd.databricks.v1+cell": {
     "cellMetadata": {
      "byteLimit": 2048000,
      "rowLimit": 10000
     },
     "inputWidgets": {},
     "nuid": "f472c7d9-d27d-4be3-9486-61c3ba9a5628",
     "showTitle": false,
     "title": ""
    }
   },
   "source": [
    "## Creating table containg the GARCH(1,1) volatility for each stock"
   ]
  },
  {
   "cell_type": "markdown",
   "metadata": {
    "application/vnd.databricks.v1+cell": {
     "cellMetadata": {
      "byteLimit": 2048000,
      "rowLimit": 10000
     },
     "inputWidgets": {},
     "nuid": "935c45b4-5dd0-4885-b3b1-6afd7f4420e2",
     "showTitle": false,
     "title": ""
    }
   },
   "source": [
    "The volatility is given by :\n",
    "\n",
    "$$\n",
    "\\sigma_{t}^2= \\omega+ \\alpha y^2_{t-1} + \\beta \\sigma^2_{t-1} \\ , \\ \\omega \\ge 0 \\ \\ \\ \\  \\alpha, \\beta>0 \\ and\n",
    " \\ \\alpha+ \\beta<1\n",
    "$$"
   ]
  },
  {
   "cell_type": "code",
   "execution_count": 0,
   "metadata": {
    "application/vnd.databricks.v1+cell": {
     "cellMetadata": {
      "byteLimit": 2048000,
      "rowLimit": 10000
     },
     "inputWidgets": {},
     "nuid": "5920d8b2-cf1b-4ea1-abdb-9f4be5a7d764",
     "showTitle": false,
     "title": ""
    }
   },
   "outputs": [],
   "source": [
    "#-----------------------------------------\n",
    "# Set the prod folder path\n",
    "#-----------------------------------------\n",
    "raw_folder_path = \"/mnt/raw/\"\n",
    "prod_folder_path = \"/mnt/prod/\"\n",
    "\n",
    "stocks = [\"aapl\", \"amzn\", \"googl\", \"msft\"]"
   ]
  },
  {
   "cell_type": "code",
   "execution_count": 0,
   "metadata": {
    "application/vnd.databricks.v1+cell": {
     "cellMetadata": {
      "byteLimit": 2048000,
      "rowLimit": 10000
     },
     "inputWidgets": {},
     "nuid": "dce89e40-ccbf-472a-b3ba-5b43a6887c5a",
     "showTitle": false,
     "title": ""
    }
   },
   "outputs": [],
   "source": [
    "#-----------------------------------------\n",
    "# Load the data\n",
    "#-----------------------------------------\n",
    "returns = spark.sql(\"SELECT * FROM stocks_returns\").toPandas()"
   ]
  },
  {
   "cell_type": "code",
   "execution_count": 0,
   "metadata": {
    "application/vnd.databricks.v1+cell": {
     "cellMetadata": {
      "byteLimit": 2048000,
      "rowLimit": 10000
     },
     "inputWidgets": {},
     "nuid": "b9cd4cd0-089c-4a59-9306-a0d2b1fd5ce0",
     "showTitle": false,
     "title": ""
    }
   },
   "outputs": [],
   "source": [
    "#-----------------------------------------\n",
    "# Calculate the GARCH(1,1) volatility for each stock\n",
    "#-----------------------------------------\n",
    "garch_vol = {}\n",
    "garch_vol[\"date\"] = returns[\"date\"]\n",
    "for stock in stocks:\n",
    "    garch_vol[stock] = forecast_vol(returns[stock])[0][:-1]\n",
    "\n",
    "garch_vol = pd.DataFrame(garch_vol)"
   ]
  },
  {
   "cell_type": "code",
   "execution_count": 0,
   "metadata": {
    "application/vnd.databricks.v1+cell": {
     "cellMetadata": {
      "byteLimit": 2048000,
      "rowLimit": 10000
     },
     "inputWidgets": {},
     "nuid": "34b88ad9-0ee2-41d6-9736-02ae1fad934b",
     "showTitle": false,
     "title": ""
    }
   },
   "outputs": [
    {
     "output_type": "stream",
     "name": "stdout",
     "output_type": "stream",
     "text": [
      "Dropped table: stocks_volatility\n"
     ]
    }
   ],
   "source": [
    "#--------------------------------------------------------\n",
    "# Convert the data to spark to save it esaly to sql table\n",
    "#--------------------------------------------------------\n",
    "# Define the schema\n",
    "schema = StructType([\n",
    "    StructField(\"date\", StringType(), True),\n",
    "    StructField(\"aapl\", FloatType(), True),\n",
    "    StructField(\"amzn\", FloatType(), True),\n",
    "    StructField(\"msft\", FloatType(), True),\n",
    "    StructField(\"googl\", FloatType(), True)\n",
    "])\n",
    "\n",
    "garch_vol = spark.createDataFrame(garch_vol, schema)\n",
    "\n",
    "# Check if the table exists\n",
    "if spark.catalog.tableExists(\"stocks_volatility\"):\n",
    "    # Drop the existing table\n",
    "    spark.sql(f\"DROP TABLE stocks_volatility\")\n",
    "    print(f'Dropped table: stocks_volatility')\n",
    "\n",
    "# Create the table\n",
    "garch_vol.write.format(\"parquet\").saveAsTable(\"stocks_volatility\")"
   ]
  },
  {
   "cell_type": "code",
   "execution_count": 0,
   "metadata": {
    "application/vnd.databricks.v1+cell": {
     "cellMetadata": {
      "byteLimit": 2048000,
      "rowLimit": 10000
     },
     "inputWidgets": {},
     "nuid": "d0ecbc2a-9cff-4a13-adc2-116755c64a74",
     "showTitle": false,
     "title": ""
    }
   },
   "outputs": [],
   "source": [
    "#-----------------------------------------\n",
    "# Write the garch volatility in the prod\n",
    "#-----------------------------------------\n",
    "# Temp folder to save temp parquet files\n",
    "temp_folder = prod_folder_path + f\"temp/\"\n",
    "\n",
    "# write data frame to csv\n",
    "garch_vol.coalesce(1).write.mode(\"overwrite\").option(\"header\", \"True\").csv(temp_folder)\n",
    "\n",
    "#get all files path ending with .parquet\n",
    "files_paths = get_files_paths_from_folders(temp_folder, \".csv\")\n",
    "            \n",
    "# Copy parquet files to final destination\n",
    "ingest_and_transform_to_parquet(files_paths, prod_folder_path, \"volatilities\")\n",
    "\n",
    "# delete the temp folder\n",
    "delete_contents_recursively(temp_folder)"
   ]
  },
  {
   "cell_type": "code",
   "execution_count": 0,
   "metadata": {
    "application/vnd.databricks.v1+cell": {
     "cellMetadata": {
      "byteLimit": 2048000,
      "implicitDf": true,
      "rowLimit": 10000
     },
     "inputWidgets": {},
     "nuid": "91be985a-96df-4e91-a6b5-d1fc596258cc",
     "showTitle": false,
     "title": ""
    }
   },
   "outputs": [
    {
     "output_type": "display_data",
     "data": {
      "text/html": [
       "<style scoped>\n",
       "  .table-result-container {\n",
       "    max-height: 300px;\n",
       "    overflow: auto;\n",
       "  }\n",
       "  table, th, td {\n",
       "    border: 1px solid black;\n",
       "    border-collapse: collapse;\n",
       "  }\n",
       "  th, td {\n",
       "    padding: 5px;\n",
       "  }\n",
       "  th {\n",
       "    text-align: left;\n",
       "  }\n",
       "</style><div class='table-result-container'><table class='table-result'><thead style='background-color: white'><tr><th>date</th><th>aapl</th><th>amzn</th><th>msft</th><th>googl</th></tr></thead><tbody><tr><td>2024-02-12</td><td>1.8448957E-4</td><td>6.4494414E-4</td><td>4.1550378E-4</td><td>2.0927316E-4</td></tr><tr><td>2024-02-09</td><td>1.9253211E-4</td><td>6.314657E-4</td><td>4.1388778E-4</td><td>2.0363413E-4</td></tr><tr><td>2024-02-08</td><td>2.0006507E-4</td><td>7.080605E-4</td><td>4.4699386E-4</td><td>2.2061924E-4</td></tr><tr><td>2024-02-07</td><td>2.1096437E-4</td><td>7.930064E-4</td><td>4.7631405E-4</td><td>1.9706559E-4</td></tr><tr><td>2024-02-06</td><td>2.1713106E-4</td><td>8.970418E-4</td><td>5.1616976E-4</td><td>2.131243E-4</td></tr><tr><td>2024-02-05</td><td>2.221631E-4</td><td>0.0010173343</td><td>5.544657E-4</td><td>2.131472E-4</td></tr><tr><td>2024-02-02</td><td>2.3297689E-4</td><td>4.126897E-4</td><td>5.976942E-4</td><td>1.9868766E-4</td></tr><tr><td>2024-02-01</td><td>2.3329063E-4</td><td>3.5980533E-4</td><td>6.471031E-4</td><td>1.9144946E-4</td></tr><tr><td>2024-01-31</td><td>2.1728098E-4</td><td>3.0829286E-4</td><td>2.1628957E-4</td><td>1.3339386E-4</td></tr><tr><td>2024-01-30</td><td>2.000188E-4</td><td>2.9780518E-4</td><td>2.1344332E-4</td><td>1.3986659E-4</td></tr></tbody></table></div>"
      ]
     },
     "metadata": {
      "application/vnd.databricks.v1+output": {
       "addedWidgets": {},
       "aggData": [],
       "aggError": "",
       "aggOverflow": false,
       "aggSchema": [],
       "aggSeriesLimitReached": false,
       "aggType": "",
       "arguments": {},
       "columnCustomDisplayInfos": {},
       "data": [
        [
         "2024-02-12",
         1.8448957E-4,
         6.4494414E-4,
         4.1550378E-4,
         2.0927316E-4
        ],
        [
         "2024-02-09",
         1.9253211E-4,
         6.314657E-4,
         4.1388778E-4,
         2.0363413E-4
        ],
        [
         "2024-02-08",
         2.0006507E-4,
         7.080605E-4,
         4.4699386E-4,
         2.2061924E-4
        ],
        [
         "2024-02-07",
         2.1096437E-4,
         7.930064E-4,
         4.7631405E-4,
         1.9706559E-4
        ],
        [
         "2024-02-06",
         2.1713106E-4,
         8.970418E-4,
         5.1616976E-4,
         2.131243E-4
        ],
        [
         "2024-02-05",
         2.221631E-4,
         0.0010173343,
         5.544657E-4,
         2.131472E-4
        ],
        [
         "2024-02-02",
         2.3297689E-4,
         4.126897E-4,
         5.976942E-4,
         1.9868766E-4
        ],
        [
         "2024-02-01",
         2.3329063E-4,
         3.5980533E-4,
         6.471031E-4,
         1.9144946E-4
        ],
        [
         "2024-01-31",
         2.1728098E-4,
         3.0829286E-4,
         2.1628957E-4,
         1.3339386E-4
        ],
        [
         "2024-01-30",
         2.000188E-4,
         2.9780518E-4,
         2.1344332E-4,
         1.3986659E-4
        ]
       ],
       "datasetInfos": [],
       "dbfsResultPath": null,
       "isJsonSchema": true,
       "metadata": {
        "dataframeName": "_sqldf",
        "executionCount": 48
       },
       "overflow": false,
       "plotOptions": {
        "customPlotOptions": {},
        "displayType": "table",
        "pivotAggregation": null,
        "pivotColumns": null,
        "xColumns": null,
        "yColumns": null
       },
       "removedWidgets": [],
       "schema": [
        {
         "metadata": "{}",
         "name": "date",
         "type": "\"string\""
        },
        {
         "metadata": "{}",
         "name": "aapl",
         "type": "\"float\""
        },
        {
         "metadata": "{}",
         "name": "amzn",
         "type": "\"float\""
        },
        {
         "metadata": "{}",
         "name": "msft",
         "type": "\"float\""
        },
        {
         "metadata": "{}",
         "name": "googl",
         "type": "\"float\""
        }
       ],
       "type": "table"
      }
     },
     "output_type": "display_data"
    }
   ],
   "source": [
    "%sql\n",
    "-- Disply the stocks_returns\n",
    "SELECT *\n",
    "FROM stocks_volatility\n",
    "ORDER BY date DESC\n",
    "LIMIT 10"
   ]
  }
 ],
 "metadata": {
  "application/vnd.databricks.v1+notebook": {
   "dashboards": [],
   "language": "python",
   "notebookMetadata": {
    "mostRecentlyExecutedCommandWithImplicitDF": {
     "commandId": 779032277679419,
     "dataframes": [
      "_sqldf"
     ]
    },
    "pythonIndentUnit": 4
   },
   "notebookName": "daily_volatility_sql_tables",
   "widgets": {}
  },
  "kernelspec": {
   "display_name": "Python 3",
   "language": "python",
   "name": "python3"
  },
  "language_info": {
   "codemirror_mode": {
    "name": "ipython",
    "version": 3
   },
   "file_extension": ".py",
   "mimetype": "text/x-python",
   "name": "python",
   "nbconvert_exporter": "python",
   "pygments_lexer": "ipython3",
   "version": "3.12.1"
  }
 },
 "nbformat": 4,
 "nbformat_minor": 0
}
