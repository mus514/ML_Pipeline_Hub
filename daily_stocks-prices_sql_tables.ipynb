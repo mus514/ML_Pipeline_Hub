{
 "cells": [
  {
   "cell_type": "markdown",
   "metadata": {
    "application/vnd.databricks.v1+cell": {
     "cellMetadata": {
      "byteLimit": 2048000,
      "rowLimit": 10000
     },
     "inputWidgets": {},
     "nuid": "d6a1e0fb-31aa-462d-9860-b6d7963d3ce0",
     "showTitle": false,
     "title": ""
    }
   },
   "source": [
    "---\n",
    "Author: Mustapha Bouhsen <br>\n",
    "[LinkedIn](https://www.linkedin.com/in/mustapha-bouhsen/)<br>\n",
    "[Git](https://github.com/mus514)<br>\n",
    "Date: February 7, 2024<br>\n",
    "---"
   ]
  },
  {
   "cell_type": "code",
   "execution_count": 0,
   "metadata": {
    "application/vnd.databricks.v1+cell": {
     "cellMetadata": {
      "byteLimit": 2048000,
      "rowLimit": 10000
     },
     "inputWidgets": {},
     "nuid": "4c37ce64-7be6-4c97-9b71-6b27b9fbfc18",
     "showTitle": false,
     "title": ""
    },
    "jupyter": {
     "outputs_hidden": true
    }
   },
   "outputs": [],
   "source": [
    "%run Repos/bouhsen.m@gmail.com/ML_Pipeline_Hub/library/garch_model"
   ]
  },
  {
   "cell_type": "code",
   "execution_count": 0,
   "metadata": {
    "application/vnd.databricks.v1+cell": {
     "cellMetadata": {
      "byteLimit": 2048000,
      "rowLimit": 10000
     },
     "inputWidgets": {},
     "nuid": "5466a929-1970-4a9b-b47f-02afd2a8eefd",
     "showTitle": false,
     "title": ""
    }
   },
   "outputs": [],
   "source": [
    "%run Repos/bouhsen.m@gmail.com/ML_Pipeline_Hub/library/daily_utilities"
   ]
  },
  {
   "cell_type": "code",
   "execution_count": 0,
   "metadata": {
    "application/vnd.databricks.v1+cell": {
     "cellMetadata": {
      "byteLimit": 2048000,
      "rowLimit": 10000
     },
     "inputWidgets": {},
     "nuid": "4046b9d0-c903-403d-963f-8d5e31004e2c",
     "showTitle": false,
     "title": ""
    }
   },
   "outputs": [],
   "source": [
    "#-----------------------------------------\n",
    "# load libraries\n",
    "#-----------------------------------------\n",
    "from pyspark.sql.window import Window\n",
    "from pyspark.sql.types import StructType, StructField, IntegerType, StringType, FloatType, DateType\n",
    "from pyspark.sql import functions as F \n",
    "from pyspark.sql.functions import udf\n",
    "import pandas as pd\n",
    "import numpy as np\n",
    "from datetime import datetime\n"
   ]
  },
  {
   "cell_type": "markdown",
   "metadata": {
    "application/vnd.databricks.v1+cell": {
     "cellMetadata": {
      "byteLimit": 2048000,
      "rowLimit": 10000
     },
     "inputWidgets": {},
     "nuid": "bfc5e317-cb99-4d6b-a211-a1ab8bb20e94",
     "showTitle": false,
     "title": ""
    }
   },
   "source": [
    "\n",
    "### Create table from Azure storage for each stock\n"
   ]
  },
  {
   "cell_type": "code",
   "execution_count": 0,
   "metadata": {
    "application/vnd.databricks.v1+cell": {
     "cellMetadata": {
      "byteLimit": 2048000,
      "rowLimit": 10000
     },
     "inputWidgets": {},
     "nuid": "2f47e9a0-8af0-4cb1-a7e3-53390d8a033d",
     "showTitle": false,
     "title": ""
    }
   },
   "outputs": [],
   "source": [
    "#-----------------------------------------\n",
    "# Set the prod folder path\n",
    "#-----------------------------------------\n",
    "raw_folder_path = \"/mnt/raw/\"\n",
    "prod_folder_path = \"/mnt/prod/\"\n",
    "clean_folder_path = \"/mnt/clean/\"\n",
    "\n",
    "stocks = [\"aapl\", \"amzn\", \"googl\", \"msft\"]"
   ]
  },
  {
   "cell_type": "code",
   "execution_count": 0,
   "metadata": {
    "application/vnd.databricks.v1+cell": {
     "cellMetadata": {
      "byteLimit": 2048000,
      "rowLimit": 10000
     },
     "inputWidgets": {},
     "nuid": "8d3a1c5f-dd29-48e1-9c2d-82b50e59be22",
     "showTitle": false,
     "title": ""
    }
   },
   "outputs": [],
   "source": [
    "#-----------------------------------------\n",
    "# The schema\n",
    "#-----------------------------------------\n",
    "schema = StructType([\n",
    "    StructField(\"date\", DateType(), True),\n",
    "    StructField(\"open\", FloatType(), True),\n",
    "    StructField(\"high\", FloatType(), True),\n",
    "    StructField(\"low\", FloatType(), True),\n",
    "    StructField(\"close\", FloatType(), True),\n",
    "    StructField(\"adj_close\", FloatType(), True),\n",
    "    StructField(\"volume\", FloatType(), True)\n",
    "])\n"
   ]
  },
  {
   "cell_type": "code",
   "execution_count": 0,
   "metadata": {
    "application/vnd.databricks.v1+cell": {
     "cellMetadata": {
      "byteLimit": 2048000,
      "rowLimit": 10000
     },
     "inputWidgets": {},
     "nuid": "57ac4cf0-2ddf-4af0-8461-29b14bc6f610",
     "showTitle": false,
     "title": ""
    }
   },
   "outputs": [
    {
     "output_type": "stream",
     "name": "stdout",
     "output_type": "stream",
     "text": [
      "Dropped table: aapl\nTable for aapl is created\nDropped table: amzn\nTable for amzn is created\nDropped table: googl\nTable for googl is created\nDropped table: msft\nTable for msft is created\n"
     ]
    }
   ],
   "source": [
    "#-----------------------------------------\n",
    "# Create the daily table for each stock\n",
    "#-----------------------------------------\n",
    "for stock in stocks:\n",
    "    # Create the path for the stock\n",
    "    path = f'{clean_folder_path}{stock}.csv'\n",
    "    # Load all the parquet files at once\n",
    "    df = spark.read.schema(schema).option(\"header\", \"True\").csv(path)\n",
    "    \n",
    "    # Check if the table exists\n",
    "    if spark.catalog.tableExists(stock):\n",
    "        # Drop the existing table\n",
    "        spark.sql(f\"DROP TABLE {stock}\")\n",
    "        print(f'Dropped table: {stock}')\n",
    "    \n",
    "    # Create the table\n",
    "    df.write.format(\"parquet\").saveAsTable(stock)\n",
    "    print(f'Table for {stock} is created')"
   ]
  },
  {
   "cell_type": "code",
   "execution_count": 0,
   "metadata": {
    "application/vnd.databricks.v1+cell": {
     "cellMetadata": {
      "byteLimit": 2048000,
      "rowLimit": 10000
     },
     "inputWidgets": {},
     "nuid": "9acfdd46-a2ea-41d9-9b7d-6d897a58c6d6",
     "showTitle": false,
     "title": ""
    }
   },
   "outputs": [],
   "source": [
    "#-----------------------------------------\n",
    "# Write the prices in the prod\n",
    "#-----------------------------------------\n",
    "# Temp folder to save temp parquet files\n",
    "temp_folder = prod_folder_path + f\"temp/\"\n",
    "\n",
    "# Partion files in folders by year and month\n",
    "df.write.mode(\"overwrite\").option(\"header\", \"True\").csv(temp_folder)\n",
    "\n",
    "# get all files path ending with .parquet\n",
    "files_paths = get_files_paths_from_folders(temp_folder, \".csv\")\n",
    "            \n",
    "# Copy parquet files to final destination\n",
    "ingest_and_transform_to_parquet(files_paths, prod_folder_path, \"prices\")\n",
    "\n",
    "# delete the temp folder\n",
    "delete_contents_recursively(temp_folder)"
   ]
  },
  {
   "cell_type": "code",
   "execution_count": 0,
   "metadata": {
    "application/vnd.databricks.v1+cell": {
     "cellMetadata": {
      "byteLimit": 2048000,
      "implicitDf": true,
      "rowLimit": 10000
     },
     "inputWidgets": {},
     "nuid": "52b3ea96-efa5-4327-8e5f-e64b70bddd7c",
     "showTitle": false,
     "title": ""
    }
   },
   "outputs": [
    {
     "output_type": "display_data",
     "data": {
      "text/html": [
       "<style scoped>\n",
       "  .table-result-container {\n",
       "    max-height: 300px;\n",
       "    overflow: auto;\n",
       "  }\n",
       "  table, th, td {\n",
       "    border: 1px solid black;\n",
       "    border-collapse: collapse;\n",
       "  }\n",
       "  th, td {\n",
       "    padding: 5px;\n",
       "  }\n",
       "  th {\n",
       "    text-align: left;\n",
       "  }\n",
       "</style><div class='table-result-container'><table class='table-result'><thead style='background-color: white'><tr><th>date</th><th>open</th><th>high</th><th>low</th><th>close</th><th>adj_close</th><th>volume</th></tr></thead><tbody><tr><td>2004-01-02</td><td>0.384821</td><td>0.388393</td><td>0.378214</td><td>0.38</td><td>0.32170781</td><td>1.446424E8</td></tr><tr><td>2004-01-05</td><td>0.3825</td><td>0.399821</td><td>0.3825</td><td>0.395893</td><td>0.33516282</td><td>3.950184E8</td></tr><tr><td>2004-01-06</td><td>0.397321</td><td>0.400357</td><td>0.387679</td><td>0.394464</td><td>0.33395305</td><td>5.09348E8</td></tr><tr><td>2004-01-07</td><td>0.394643</td><td>0.407679</td><td>0.391607</td><td>0.403393</td><td>0.34151223</td><td>5.8687437E8</td></tr><tr><td>2004-01-08</td><td>0.407857</td><td>0.42375</td><td>0.404464</td><td>0.417143</td><td>0.35315305</td><td>4.603032E8</td></tr><tr><td>2004-01-09</td><td>0.414821</td><td>0.430893</td><td>0.406964</td><td>0.410714</td><td>0.34771028</td><td>4.274592E8</td></tr><tr><td>2004-01-12</td><td>0.415179</td><td>0.428571</td><td>0.4125</td><td>0.42375</td><td>0.35874647</td><td>4.875472E8</td></tr><tr><td>2004-01-13</td><td>0.441071</td><td>0.443571</td><td>0.426071</td><td>0.430714</td><td>0.36464232</td><td>6.7901683E8</td></tr><tr><td>2004-01-14</td><td>0.435714</td><td>0.438214</td><td>0.424643</td><td>0.432143</td><td>0.36585203</td><td>6.200432E8</td></tr><tr><td>2004-01-15</td><td>0.409107</td><td>0.417857</td><td>0.401786</td><td>0.408036</td><td>0.34544304</td><td>1.01820877E9</td></tr></tbody></table></div>"
      ]
     },
     "metadata": {
      "application/vnd.databricks.v1+output": {
       "addedWidgets": {},
       "aggData": [],
       "aggError": "",
       "aggOverflow": false,
       "aggSchema": [],
       "aggSeriesLimitReached": false,
       "aggType": "",
       "arguments": {},
       "columnCustomDisplayInfos": {},
       "data": [
        [
         "2004-01-02",
         0.384821,
         0.388393,
         0.378214,
         0.38,
         0.32170781,
         1.446424E8
        ],
        [
         "2004-01-05",
         0.3825,
         0.399821,
         0.3825,
         0.395893,
         0.33516282,
         3.950184E8
        ],
        [
         "2004-01-06",
         0.397321,
         0.400357,
         0.387679,
         0.394464,
         0.33395305,
         5.09348E8
        ],
        [
         "2004-01-07",
         0.394643,
         0.407679,
         0.391607,
         0.403393,
         0.34151223,
         5.8687437E8
        ],
        [
         "2004-01-08",
         0.407857,
         0.42375,
         0.404464,
         0.417143,
         0.35315305,
         4.603032E8
        ],
        [
         "2004-01-09",
         0.414821,
         0.430893,
         0.406964,
         0.410714,
         0.34771028,
         4.274592E8
        ],
        [
         "2004-01-12",
         0.415179,
         0.428571,
         0.4125,
         0.42375,
         0.35874647,
         4.875472E8
        ],
        [
         "2004-01-13",
         0.441071,
         0.443571,
         0.426071,
         0.430714,
         0.36464232,
         6.7901683E8
        ],
        [
         "2004-01-14",
         0.435714,
         0.438214,
         0.424643,
         0.432143,
         0.36585203,
         6.200432E8
        ],
        [
         "2004-01-15",
         0.409107,
         0.417857,
         0.401786,
         0.408036,
         0.34544304,
         1.01820877E9
        ]
       ],
       "datasetInfos": [],
       "dbfsResultPath": null,
       "isJsonSchema": true,
       "metadata": {
        "dataframeName": "_sqldf",
        "executionCount": 16
       },
       "overflow": false,
       "plotOptions": {
        "customPlotOptions": {},
        "displayType": "table",
        "pivotAggregation": null,
        "pivotColumns": null,
        "xColumns": null,
        "yColumns": null
       },
       "removedWidgets": [],
       "schema": [
        {
         "metadata": "{}",
         "name": "date",
         "type": "\"date\""
        },
        {
         "metadata": "{}",
         "name": "open",
         "type": "\"float\""
        },
        {
         "metadata": "{}",
         "name": "high",
         "type": "\"float\""
        },
        {
         "metadata": "{}",
         "name": "low",
         "type": "\"float\""
        },
        {
         "metadata": "{}",
         "name": "close",
         "type": "\"float\""
        },
        {
         "metadata": "{}",
         "name": "adj_close",
         "type": "\"float\""
        },
        {
         "metadata": "{}",
         "name": "volume",
         "type": "\"float\""
        }
       ],
       "type": "table"
      }
     },
     "output_type": "display_data"
    }
   ],
   "source": [
    "%sql\n",
    "\n",
    "--- Display the table for apple stock\n",
    "SELECT *\n",
    "FROM aapl\n",
    "LIMIT 10"
   ]
  },
  {
   "cell_type": "code",
   "execution_count": 0,
   "metadata": {
    "application/vnd.databricks.v1+cell": {
     "cellMetadata": {
      "byteLimit": 2048000,
      "implicitDf": true,
      "rowLimit": 10000
     },
     "inputWidgets": {},
     "nuid": "cf510545-08f5-40d8-8a7f-b2a98a32abe8",
     "showTitle": false,
     "title": ""
    }
   },
   "outputs": [
    {
     "output_type": "display_data",
     "data": {
      "text/html": [
       "<style scoped>\n",
       "  .table-result-container {\n",
       "    max-height: 300px;\n",
       "    overflow: auto;\n",
       "  }\n",
       "  table, th, td {\n",
       "    border: 1px solid black;\n",
       "    border-collapse: collapse;\n",
       "  }\n",
       "  th, td {\n",
       "    padding: 5px;\n",
       "  }\n",
       "  th {\n",
       "    text-align: left;\n",
       "  }\n",
       "</style><div class='table-result-container'><table class='table-result'><thead style='background-color: white'><tr><th>year</th><th>mean_stock_price_by_year</th></tr></thead><tbody><tr><td>2004</td><td>0.6344097272034676</td></tr><tr><td>2005</td><td>1.66700113056198</td></tr><tr><td>2006</td><td>2.528951308641776</td></tr><tr><td>2007</td><td>4.5812108640176845</td></tr><tr><td>2008</td><td>5.070679018148792</td></tr><tr><td>2009</td><td>5.24336163108311</td></tr><tr><td>2010</td><td>9.280087898647974</td></tr><tr><td>2011</td><td>13.000154476317148</td></tr><tr><td>2012</td><td>20.573204307556153</td></tr><tr><td>2013</td><td>16.87981717170231</td></tr><tr><td>2014</td><td>23.06616359286838</td></tr><tr><td>2015</td><td>30.009999948834615</td></tr><tr><td>2016</td><td>26.15100197564988</td></tr><tr><td>2017</td><td>37.637768870805836</td></tr><tr><td>2018</td><td>47.263356698936676</td></tr><tr><td>2019</td><td>52.063988049825035</td></tr><tr><td>2020</td><td>95.34707487807444</td></tr><tr><td>2021</td><td>140.98936516898019</td></tr><tr><td>2022</td><td>154.83505969408498</td></tr><tr><td>2023</td><td>172.54900030517578</td></tr><tr><td>2024</td><td>187.78034394362876</td></tr></tbody></table></div>"
      ]
     },
     "metadata": {
      "application/vnd.databricks.v1+output": {
       "addedWidgets": {},
       "aggData": [],
       "aggError": "",
       "aggOverflow": false,
       "aggSchema": [],
       "aggSeriesLimitReached": false,
       "aggType": "",
       "arguments": {},
       "columnCustomDisplayInfos": {},
       "data": [
        [
         2004,
         0.6344097272034676
        ],
        [
         2005,
         1.66700113056198
        ],
        [
         2006,
         2.528951308641776
        ],
        [
         2007,
         4.5812108640176845
        ],
        [
         2008,
         5.070679018148792
        ],
        [
         2009,
         5.24336163108311
        ],
        [
         2010,
         9.280087898647974
        ],
        [
         2011,
         13.000154476317148
        ],
        [
         2012,
         20.573204307556153
        ],
        [
         2013,
         16.87981717170231
        ],
        [
         2014,
         23.06616359286838
        ],
        [
         2015,
         30.009999948834615
        ],
        [
         2016,
         26.15100197564988
        ],
        [
         2017,
         37.637768870805836
        ],
        [
         2018,
         47.263356698936676
        ],
        [
         2019,
         52.063988049825035
        ],
        [
         2020,
         95.34707487807444
        ],
        [
         2021,
         140.98936516898019
        ],
        [
         2022,
         154.83505969408498
        ],
        [
         2023,
         172.54900030517578
        ],
        [
         2024,
         187.78034394362876
        ]
       ],
       "datasetInfos": [],
       "dbfsResultPath": null,
       "isJsonSchema": true,
       "metadata": {
        "dataframeName": "_sqldf",
        "executionCount": 17
       },
       "overflow": false,
       "plotOptions": {
        "customPlotOptions": {},
        "displayType": "table",
        "pivotAggregation": null,
        "pivotColumns": null,
        "xColumns": null,
        "yColumns": null
       },
       "removedWidgets": [],
       "schema": [
        {
         "metadata": "{}",
         "name": "year",
         "type": "\"integer\""
        },
        {
         "metadata": "{}",
         "name": "mean_stock_price_by_year",
         "type": "\"double\""
        }
       ],
       "type": "table"
      }
     },
     "output_type": "display_data"
    }
   ],
   "source": [
    "%sql\n",
    "-- Disply the year average stock price for aapl\n",
    "SELECT year(date) as year, avg(close) as mean_stock_price_by_year\n",
    "FROM aapl\n",
    "GROUP BY year(date)\n",
    "ORDER BY year(date)"
   ]
  },
  {
   "cell_type": "markdown",
   "metadata": {
    "application/vnd.databricks.v1+cell": {
     "cellMetadata": {
      "byteLimit": 2048000,
      "rowLimit": 10000
     },
     "inputWidgets": {},
     "nuid": "3a1f1936-2d9c-4811-8b05-a0562625c677",
     "showTitle": false,
     "title": ""
    }
   },
   "source": [
    "## Creating table for stocks prices"
   ]
  },
  {
   "cell_type": "code",
   "execution_count": 0,
   "metadata": {
    "application/vnd.databricks.v1+cell": {
     "cellMetadata": {
      "byteLimit": 2048000,
      "implicitDf": true,
      "rowLimit": 10000
     },
     "inputWidgets": {},
     "nuid": "a0bc7d43-37e4-43e3-b1e1-987f4098d939",
     "showTitle": false,
     "title": ""
    }
   },
   "outputs": [
    {
     "output_type": "display_data",
     "data": {
      "text/html": [
       "<style scoped>\n",
       "  .table-result-container {\n",
       "    max-height: 300px;\n",
       "    overflow: auto;\n",
       "  }\n",
       "  table, th, td {\n",
       "    border: 1px solid black;\n",
       "    border-collapse: collapse;\n",
       "  }\n",
       "  th, td {\n",
       "    padding: 5px;\n",
       "  }\n",
       "  th {\n",
       "    text-align: left;\n",
       "  }\n",
       "</style><div class='table-result-container'><table class='table-result'><thead style='background-color: white'><tr><th>num_affected_rows</th><th>num_inserted_rows</th></tr></thead><tbody></tbody></table></div>"
      ]
     },
     "metadata": {
      "application/vnd.databricks.v1+output": {
       "addedWidgets": {},
       "aggData": [],
       "aggError": "",
       "aggOverflow": false,
       "aggSchema": [],
       "aggSeriesLimitReached": false,
       "aggType": "",
       "arguments": {},
       "columnCustomDisplayInfos": {},
       "data": [],
       "datasetInfos": [],
       "dbfsResultPath": null,
       "isJsonSchema": true,
       "metadata": {
        "dataframeName": "_sqldf",
        "executionCount": 18
       },
       "overflow": false,
       "plotOptions": {
        "customPlotOptions": {},
        "displayType": "table",
        "pivotAggregation": null,
        "pivotColumns": null,
        "xColumns": null,
        "yColumns": null
       },
       "removedWidgets": [],
       "schema": [
        {
         "metadata": "{}",
         "name": "num_affected_rows",
         "type": "\"long\""
        },
        {
         "metadata": "{}",
         "name": "num_inserted_rows",
         "type": "\"long\""
        }
       ],
       "type": "table"
      }
     },
     "output_type": "display_data"
    }
   ],
   "source": [
    "%sql\n",
    "DROP TABLE IF EXISTS stocks_prices;\n",
    "\n",
    "CREATE TABLE stocks_prices AS\n",
    "SELECT aapl.date, aapl.adj_close as aapl, amzn.adj_close as amzn, msft.adj_close as msft, googl.adj_close as googl\n",
    "FROM aapl\n",
    "JOIN amzn ON aapl.date = amzn.date\n",
    "JOIN msft ON aapl.date = msft.date\n",
    "JOIN googl ON aapl.date = googl.date\n",
    "ORDER BY date;"
   ]
  },
  {
   "cell_type": "code",
   "execution_count": 0,
   "metadata": {
    "application/vnd.databricks.v1+cell": {
     "cellMetadata": {
      "byteLimit": 2048000,
      "implicitDf": true,
      "rowLimit": 10000
     },
     "inputWidgets": {},
     "nuid": "e3ae9ce4-45d1-4926-9ed9-509c17466f0a",
     "showTitle": false,
     "title": ""
    }
   },
   "outputs": [
    {
     "output_type": "display_data",
     "data": {
      "text/html": [
       "<style scoped>\n",
       "  .table-result-container {\n",
       "    max-height: 300px;\n",
       "    overflow: auto;\n",
       "  }\n",
       "  table, th, td {\n",
       "    border: 1px solid black;\n",
       "    border-collapse: collapse;\n",
       "  }\n",
       "  th, td {\n",
       "    padding: 5px;\n",
       "  }\n",
       "  th {\n",
       "    text-align: left;\n",
       "  }\n",
       "</style><div class='table-result-container'><table class='table-result'><thead style='background-color: white'><tr><th>date</th><th>aapl</th><th>amzn</th><th>msft</th><th>googl</th></tr></thead><tbody><tr><td>2024-02-12</td><td>187.15</td><td>172.34</td><td>415.26</td><td>147.53</td></tr><tr><td>2024-02-09</td><td>188.85</td><td>174.45</td><td>420.55</td><td>149.0</td></tr><tr><td>2024-02-08</td><td>188.08002</td><td>169.84</td><td>414.11</td><td>145.91</td></tr><tr><td>2024-02-07</td><td>189.16862</td><td>170.53</td><td>414.05</td><td>145.54</td></tr><tr><td>2024-02-06</td><td>189.05876</td><td>169.15</td><td>405.49</td><td>144.1</td></tr><tr><td>2024-02-05</td><td>187.44081</td><td>170.31</td><td>405.65</td><td>143.68</td></tr><tr><td>2024-02-02</td><td>185.61316</td><td>171.81</td><td>411.22</td><td>142.38</td></tr><tr><td>2024-02-01</td><td>186.62187</td><td>159.28</td><td>403.78</td><td>141.16</td></tr><tr><td>2024-01-31</td><td>184.165</td><td>155.2</td><td>397.58</td><td>140.1</td></tr><tr><td>2024-01-30</td><td>187.80035</td><td>159.0</td><td>408.59</td><td>151.46</td></tr></tbody></table></div>"
      ]
     },
     "metadata": {
      "application/vnd.databricks.v1+output": {
       "addedWidgets": {},
       "aggData": [],
       "aggError": "",
       "aggOverflow": false,
       "aggSchema": [],
       "aggSeriesLimitReached": false,
       "aggType": "",
       "arguments": {},
       "columnCustomDisplayInfos": {},
       "data": [
        [
         "2024-02-12",
         187.15,
         172.34,
         415.26,
         147.53
        ],
        [
         "2024-02-09",
         188.85,
         174.45,
         420.55,
         149.0
        ],
        [
         "2024-02-08",
         188.08002,
         169.84,
         414.11,
         145.91
        ],
        [
         "2024-02-07",
         189.16862,
         170.53,
         414.05,
         145.54
        ],
        [
         "2024-02-06",
         189.05876,
         169.15,
         405.49,
         144.1
        ],
        [
         "2024-02-05",
         187.44081,
         170.31,
         405.65,
         143.68
        ],
        [
         "2024-02-02",
         185.61316,
         171.81,
         411.22,
         142.38
        ],
        [
         "2024-02-01",
         186.62187,
         159.28,
         403.78,
         141.16
        ],
        [
         "2024-01-31",
         184.165,
         155.2,
         397.58,
         140.1
        ],
        [
         "2024-01-30",
         187.80035,
         159.0,
         408.59,
         151.46
        ]
       ],
       "datasetInfos": [],
       "dbfsResultPath": null,
       "isJsonSchema": true,
       "metadata": {
        "dataframeName": "_sqldf",
        "executionCount": 19
       },
       "overflow": false,
       "plotOptions": {
        "customPlotOptions": {},
        "displayType": "table",
        "pivotAggregation": null,
        "pivotColumns": null,
        "xColumns": null,
        "yColumns": null
       },
       "removedWidgets": [],
       "schema": [
        {
         "metadata": "{}",
         "name": "date",
         "type": "\"date\""
        },
        {
         "metadata": "{}",
         "name": "aapl",
         "type": "\"float\""
        },
        {
         "metadata": "{}",
         "name": "amzn",
         "type": "\"float\""
        },
        {
         "metadata": "{}",
         "name": "msft",
         "type": "\"float\""
        },
        {
         "metadata": "{}",
         "name": "googl",
         "type": "\"float\""
        }
       ],
       "type": "table"
      }
     },
     "output_type": "display_data"
    }
   ],
   "source": [
    "%sql\n",
    "-- Disply the stock prices\n",
    "SELECT *\n",
    "FROM stocks_prices\n",
    "ORDER BY date DESC\n",
    "LIMIT 10"
   ]
  }
 ],
 "metadata": {
  "application/vnd.databricks.v1+notebook": {
   "dashboards": [],
   "language": "python",
   "notebookMetadata": {
    "mostRecentlyExecutedCommandWithImplicitDF": {
     "commandId": 2067982540407807,
     "dataframes": [
      "_sqldf"
     ]
    },
    "pythonIndentUnit": 4
   },
   "notebookName": "daily_stocks-prices_sql_tables",
   "widgets": {}
  },
  "kernelspec": {
   "display_name": "Python 3",
   "language": "python",
   "name": "python3"
  },
  "language_info": {
   "codemirror_mode": {
    "name": "ipython",
    "version": 3
   },
   "file_extension": ".py",
   "mimetype": "text/x-python",
   "name": "python",
   "nbconvert_exporter": "python",
   "pygments_lexer": "ipython3",
   "version": "3.12.1"
  }
 },
 "nbformat": 4,
 "nbformat_minor": 0
}
